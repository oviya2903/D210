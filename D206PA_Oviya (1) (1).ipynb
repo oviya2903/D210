{
 "cells": [
  {
   "cell_type": "code",
   "execution_count": 2,
   "id": "85f3cf76-807b-45b8-9f50-feaaf10f5718",
   "metadata": {},
   "outputs": [
    {
     "name": "stdout",
     "output_type": "stream",
     "text": [
      "Requirement already satisfied: pandas in c:\\users\\oviya\\anaconda3\\lib\\site-packages (2.2.2)\n",
      "Requirement already satisfied: numpy>=1.26.0 in c:\\users\\oviya\\anaconda3\\lib\\site-packages (from pandas) (1.26.4)\n",
      "Requirement already satisfied: python-dateutil>=2.8.2 in c:\\users\\oviya\\anaconda3\\lib\\site-packages (from pandas) (2.9.0.post0)\n",
      "Requirement already satisfied: pytz>=2020.1 in c:\\users\\oviya\\anaconda3\\lib\\site-packages (from pandas) (2024.1)\n",
      "Requirement already satisfied: tzdata>=2022.7 in c:\\users\\oviya\\anaconda3\\lib\\site-packages (from pandas) (2023.3)\n",
      "Requirement already satisfied: six>=1.5 in c:\\users\\oviya\\anaconda3\\lib\\site-packages (from python-dateutil>=2.8.2->pandas) (1.16.0)\n",
      "Requirement already satisfied: numpy in c:\\users\\oviya\\anaconda3\\lib\\site-packages (1.26.4)\n",
      "Requirement already satisfied: scipy in c:\\users\\oviya\\anaconda3\\lib\\site-packages (1.13.1)\n",
      "Requirement already satisfied: numpy<2.3,>=1.22.4 in c:\\users\\oviya\\anaconda3\\lib\\site-packages (from scipy) (1.26.4)\n",
      "Requirement already satisfied: matplotlib in c:\\users\\oviya\\anaconda3\\lib\\site-packages (3.8.4)\n",
      "Requirement already satisfied: contourpy>=1.0.1 in c:\\users\\oviya\\anaconda3\\lib\\site-packages (from matplotlib) (1.2.0)\n",
      "Requirement already satisfied: cycler>=0.10 in c:\\users\\oviya\\anaconda3\\lib\\site-packages (from matplotlib) (0.11.0)\n",
      "Requirement already satisfied: fonttools>=4.22.0 in c:\\users\\oviya\\anaconda3\\lib\\site-packages (from matplotlib) (4.51.0)\n",
      "Requirement already satisfied: kiwisolver>=1.3.1 in c:\\users\\oviya\\anaconda3\\lib\\site-packages (from matplotlib) (1.4.4)\n",
      "Requirement already satisfied: numpy>=1.21 in c:\\users\\oviya\\anaconda3\\lib\\site-packages (from matplotlib) (1.26.4)\n",
      "Requirement already satisfied: packaging>=20.0 in c:\\users\\oviya\\anaconda3\\lib\\site-packages (from matplotlib) (23.2)\n",
      "Requirement already satisfied: pillow>=8 in c:\\users\\oviya\\anaconda3\\lib\\site-packages (from matplotlib) (10.3.0)\n",
      "Requirement already satisfied: pyparsing>=2.3.1 in c:\\users\\oviya\\anaconda3\\lib\\site-packages (from matplotlib) (3.0.9)\n",
      "Requirement already satisfied: python-dateutil>=2.7 in c:\\users\\oviya\\anaconda3\\lib\\site-packages (from matplotlib) (2.9.0.post0)\n",
      "Requirement already satisfied: six>=1.5 in c:\\users\\oviya\\anaconda3\\lib\\site-packages (from python-dateutil>=2.7->matplotlib) (1.16.0)\n"
     ]
    }
   ],
   "source": [
    "!pip install pandas\n",
    "!pip install numpy\n",
    "!pip install scipy\n",
    "!pip install matplotlib"
   ]
  },
  {
   "cell_type": "code",
   "execution_count": 3,
   "id": "52ac801d-6b75-44f7-9cd4-8efe508bb8af",
   "metadata": {},
   "outputs": [],
   "source": [
    "import pandas as pd\n",
    "import numpy as np\n",
    "from sklearn.decomposition import PCA\n",
    "import seaborn as sns\n",
    "import matplotlib.pyplot as plt\n",
    "from scipy import stats\n",
    "from pandas.api.types import CategoricalDtype"
   ]
  },
  {
   "cell_type": "code",
   "execution_count": 4,
   "id": "a0e64730-8c0d-4706-b748-7376cda23d81",
   "metadata": {},
   "outputs": [
    {
     "name": "stdout",
     "output_type": "stream",
     "text": [
      "<class 'pandas.core.frame.DataFrame'>\n",
      "RangeIndex: 10000 entries, 0 to 9999\n",
      "Data columns (total 53 columns):\n",
      " #   Column              Non-Null Count  Dtype  \n",
      "---  ------              --------------  -----  \n",
      " 0   Unnamed: 0          10000 non-null  int64  \n",
      " 1   CaseOrder           10000 non-null  int64  \n",
      " 2   Customer_id         10000 non-null  object \n",
      " 3   Interaction         10000 non-null  object \n",
      " 4   UID                 10000 non-null  object \n",
      " 5   City                10000 non-null  object \n",
      " 6   State               10000 non-null  object \n",
      " 7   County              10000 non-null  object \n",
      " 8   Zip                 10000 non-null  int64  \n",
      " 9   Lat                 10000 non-null  float64\n",
      " 10  Lng                 10000 non-null  float64\n",
      " 11  Population          10000 non-null  int64  \n",
      " 12  Area                10000 non-null  object \n",
      " 13  Timezone            10000 non-null  object \n",
      " 14  Job                 10000 non-null  object \n",
      " 15  Children            7412 non-null   float64\n",
      " 16  Age                 7586 non-null   float64\n",
      " 17  Education           10000 non-null  object \n",
      " 18  Employment          10000 non-null  object \n",
      " 19  Income              7536 non-null   float64\n",
      " 20  Marital             10000 non-null  object \n",
      " 21  Gender              10000 non-null  object \n",
      " 22  ReAdmis             10000 non-null  object \n",
      " 23  VitD_levels         10000 non-null  float64\n",
      " 24  Doc_visits          10000 non-null  int64  \n",
      " 25  Full_meals_eaten    10000 non-null  int64  \n",
      " 26  VitD_supp           10000 non-null  int64  \n",
      " 27  Soft_drink          7533 non-null   object \n",
      " 28  Initial_admin       10000 non-null  object \n",
      " 29  HighBlood           10000 non-null  object \n",
      " 30  Stroke              10000 non-null  object \n",
      " 31  Complication_risk   10000 non-null  object \n",
      " 32  Overweight          9018 non-null   float64\n",
      " 33  Arthritis           10000 non-null  object \n",
      " 34  Diabetes            10000 non-null  object \n",
      " 35  Hyperlipidemia      10000 non-null  object \n",
      " 36  BackPain            10000 non-null  object \n",
      " 37  Anxiety             9016 non-null   float64\n",
      " 38  Allergic_rhinitis   10000 non-null  object \n",
      " 39  Reflux_esophagitis  10000 non-null  object \n",
      " 40  Asthma              10000 non-null  object \n",
      " 41  Services            10000 non-null  object \n",
      " 42  Initial_days        8944 non-null   float64\n",
      " 43  TotalCharge         10000 non-null  float64\n",
      " 44  Additional_charges  10000 non-null  float64\n",
      " 45  Item1               10000 non-null  int64  \n",
      " 46  Item2               10000 non-null  int64  \n",
      " 47  Item3               10000 non-null  int64  \n",
      " 48  Item4               10000 non-null  int64  \n",
      " 49  Item5               10000 non-null  int64  \n",
      " 50  Item6               10000 non-null  int64  \n",
      " 51  Item7               10000 non-null  int64  \n",
      " 52  Item8               10000 non-null  int64  \n",
      "dtypes: float64(11), int64(15), object(27)\n",
      "memory usage: 4.0+ MB\n"
     ]
    }
   ],
   "source": [
    "#load the medical data into pandas dataframe\n",
    "df = pd.read_csv('medical_raw_data.csv')\n",
    "df_original=df.copy\n",
    "df.info()"
   ]
  },
  {
   "cell_type": "code",
   "execution_count": 5,
   "id": "e0f4a7f8-8c6b-4ddd-a589-9b334e6aec75",
   "metadata": {},
   "outputs": [],
   "source": [
    "#drop duplicate column unamed, keep CaseOrder for original sort order\n",
    "df.drop(columns='Unnamed: 0', inplace = True)"
   ]
  },
  {
   "cell_type": "code",
   "execution_count": 6,
   "id": "a1dccf7b-eea1-41cd-9a10-0d057f5bf622",
   "metadata": {},
   "outputs": [
    {
     "data": {
      "text/html": [
       "<div>\n",
       "<style scoped>\n",
       "    .dataframe tbody tr th:only-of-type {\n",
       "        vertical-align: middle;\n",
       "    }\n",
       "\n",
       "    .dataframe tbody tr th {\n",
       "        vertical-align: top;\n",
       "    }\n",
       "\n",
       "    .dataframe thead th {\n",
       "        text-align: right;\n",
       "    }\n",
       "</style>\n",
       "<table border=\"1\" class=\"dataframe\">\n",
       "  <thead>\n",
       "    <tr style=\"text-align: right;\">\n",
       "      <th></th>\n",
       "      <th>CaseOrder</th>\n",
       "      <th>Customer_id</th>\n",
       "      <th>Interaction</th>\n",
       "      <th>UID</th>\n",
       "      <th>City</th>\n",
       "      <th>State</th>\n",
       "      <th>County</th>\n",
       "      <th>Zip</th>\n",
       "      <th>Lat</th>\n",
       "      <th>Lng</th>\n",
       "      <th>...</th>\n",
       "      <th>TotalCharge</th>\n",
       "      <th>Additional_charges</th>\n",
       "      <th>Item1</th>\n",
       "      <th>Item2</th>\n",
       "      <th>Item3</th>\n",
       "      <th>Item4</th>\n",
       "      <th>Item5</th>\n",
       "      <th>Item6</th>\n",
       "      <th>Item7</th>\n",
       "      <th>Item8</th>\n",
       "    </tr>\n",
       "  </thead>\n",
       "  <tbody>\n",
       "  </tbody>\n",
       "</table>\n",
       "<p>0 rows × 52 columns</p>\n",
       "</div>"
      ],
      "text/plain": [
       "Empty DataFrame\n",
       "Columns: [CaseOrder, Customer_id, Interaction, UID, City, State, County, Zip, Lat, Lng, Population, Area, Timezone, Job, Children, Age, Education, Employment, Income, Marital, Gender, ReAdmis, VitD_levels, Doc_visits, Full_meals_eaten, VitD_supp, Soft_drink, Initial_admin, HighBlood, Stroke, Complication_risk, Overweight, Arthritis, Diabetes, Hyperlipidemia, BackPain, Anxiety, Allergic_rhinitis, Reflux_esophagitis, Asthma, Services, Initial_days, TotalCharge, Additional_charges, Item1, Item2, Item3, Item4, Item5, Item6, Item7, Item8]\n",
       "Index: []\n",
       "\n",
       "[0 rows x 52 columns]"
      ]
     },
     "execution_count": 6,
     "metadata": {},
     "output_type": "execute_result"
    }
   ],
   "source": [
    "#look for duplicated value\n",
    "df[df.duplicated()]"
   ]
  },
  {
   "cell_type": "code",
   "execution_count": 7,
   "id": "7d38a28e-6a45-47be-8c06-cf6971d2d851",
   "metadata": {},
   "outputs": [
    {
     "data": {
      "text/plain": [
       "False"
      ]
     },
     "execution_count": 7,
     "metadata": {},
     "output_type": "execute_result"
    }
   ],
   "source": [
    "#Look for Duplicate columns\n",
    "df.columns.duplicated().any()"
   ]
  },
  {
   "cell_type": "code",
   "execution_count": 8,
   "id": "b2a707dc-a6a1-4ca8-9148-cbeb126e5825",
   "metadata": {},
   "outputs": [
    {
     "data": {
      "text/plain": [
       "False"
      ]
     },
     "execution_count": 8,
     "metadata": {},
     "output_type": "execute_result"
    }
   ],
   "source": [
    "#Look for dupicated rows\n",
    "df.duplicated().any()"
   ]
  },
  {
   "cell_type": "code",
   "execution_count": 9,
   "id": "86a283c5-2647-4a71-b796-b042c7d52957",
   "metadata": {},
   "outputs": [
    {
     "data": {
      "text/plain": [
       "10000"
      ]
     },
     "execution_count": 9,
     "metadata": {},
     "output_type": "execute_result"
    }
   ],
   "source": [
    "#Verify Customer ID is unique\n",
    "df.Customer_id.value_counts().count()"
   ]
  },
  {
   "cell_type": "code",
   "execution_count": 10,
   "id": "8b3bcd9a-8711-4444-bca1-75815a5cf2c8",
   "metadata": {},
   "outputs": [
    {
     "data": {
      "text/plain": [
       "10000"
      ]
     },
     "execution_count": 10,
     "metadata": {},
     "output_type": "execute_result"
    }
   ],
   "source": [
    "#Verify Interaction is unique\n",
    "df.Interaction.value_counts().count()"
   ]
  },
  {
   "cell_type": "code",
   "execution_count": 11,
   "id": "083e757c-7db1-4196-be53-68c4920e26fd",
   "metadata": {},
   "outputs": [
    {
     "data": {
      "text/plain": [
       "10000"
      ]
     },
     "execution_count": 11,
     "metadata": {},
     "output_type": "execute_result"
    }
   ],
   "source": [
    "#Verify UID is unique\n",
    "df.UID .value_counts().count()"
   ]
  },
  {
   "cell_type": "code",
   "execution_count": 12,
   "id": "8e4c3bbb-a863-4540-a559-7d87db9cba73",
   "metadata": {},
   "outputs": [
    {
     "data": {
      "text/plain": [
       "array(['Suburban', 'Urban', 'Rural'], dtype=object)"
      ]
     },
     "execution_count": 12,
     "metadata": {},
     "output_type": "execute_result"
    }
   ],
   "source": [
    "#Examine columns for misspelling in categorical variables using the unique() method\n",
    "df.Area.unique()"
   ]
  },
  {
   "cell_type": "code",
   "execution_count": 13,
   "id": "9e14fa98-3be4-4d48-b474-1551d63ce197",
   "metadata": {},
   "outputs": [
    {
     "data": {
      "text/plain": [
       "array(['America/Chicago', 'America/New_York', 'America/Los_Angeles',\n",
       "       'America/Indiana/Indianapolis', 'America/Detroit',\n",
       "       'America/Denver', 'America/Nome', 'America/Anchorage',\n",
       "       'America/Phoenix', 'America/Boise', 'America/Puerto_Rico',\n",
       "       'America/Yakutat', 'Pacific/Honolulu', 'America/Menominee',\n",
       "       'America/Kentucky/Louisville', 'America/Indiana/Vincennes',\n",
       "       'America/Toronto', 'America/Indiana/Marengo',\n",
       "       'America/Indiana/Winamac', 'America/Indiana/Tell_City',\n",
       "       'America/Sitka', 'America/Indiana/Knox',\n",
       "       'America/North_Dakota/New_Salem', 'America/Indiana/Vevay',\n",
       "       'America/Adak', 'America/North_Dakota/Beulah'], dtype=object)"
      ]
     },
     "execution_count": 13,
     "metadata": {},
     "output_type": "execute_result"
    }
   ],
   "source": [
    "df.Timezone.unique()"
   ]
  },
  {
   "cell_type": "code",
   "execution_count": 14,
   "id": "edb94a11-6673-40a9-913a-72a03e5db176",
   "metadata": {},
   "outputs": [
    {
     "data": {
      "text/plain": [
       "array(['Psychologist, sport and exercise', 'Community development worker',\n",
       "       'Chief Executive Officer', 'Early years teacher',\n",
       "       'Health promotion specialist', 'Corporate treasurer',\n",
       "       'Hydrologist', 'Psychiatric nurse', 'Computer games developer',\n",
       "       'Production assistant, radio', 'Contractor',\n",
       "       'Surveyor, planning and development',\n",
       "       'English as a second language teacher', 'Actuary', 'Media planner',\n",
       "       'Fast food restaurant manager', 'Horticulturist, commercial',\n",
       "       'Secretary, company', 'Designer, graphic', 'Personnel officer',\n",
       "       'Telecommunications researcher', 'Restaurant manager, fast food',\n",
       "       'Surveyor, minerals', 'Architectural technologist',\n",
       "       'Therapist, speech and language', 'Accounting technician',\n",
       "       'Glass blower/designer', 'Travel agency manager', 'Illustrator',\n",
       "       'Police officer', 'Accountant, chartered public finance',\n",
       "       'Sport and exercise psychologist', 'Pensions consultant',\n",
       "       'Community education officer', 'Radio producer',\n",
       "       'Designer, television/film set', 'Conference centre manager',\n",
       "       'Advertising account executive', 'Civil Service fast streamer',\n",
       "       'Training and development officer', 'Buyer, retail',\n",
       "       'Event organiser', 'IT technical support officer',\n",
       "       'Historic buildings inspector/conservation officer',\n",
       "       'Research scientist (physical sciences)', 'Games developer',\n",
       "       'Manufacturing engineer', 'Embryologist, clinical',\n",
       "       'Merchant navy officer', 'Television floor manager',\n",
       "       'Web designer', 'Industrial buyer', 'Aid worker',\n",
       "       'Systems developer', 'Probation officer',\n",
       "       'Scientific laboratory technician',\n",
       "       'Environmental health practitioner', 'Prison officer',\n",
       "       'Naval architect', 'Pilot, airline',\n",
       "       'Medical sales representative', 'Learning disability nurse',\n",
       "       'Agricultural engineer', 'Multimedia programmer', 'Cartographer',\n",
       "       'Company secretary', 'Operations geologist',\n",
       "       'Conservation officer, nature', 'Therapist, art',\n",
       "       'Therapist, sports', 'Oncologist',\n",
       "       'Armed forces logistics/support/administrative officer',\n",
       "       'Podiatrist', 'Translator', 'Geochemist',\n",
       "       'Engineer, technical sales',\n",
       "       'Production designer, theatre/television/film', 'Site engineer',\n",
       "       'Teacher, primary school', 'Clinical molecular geneticist',\n",
       "       'Armed forces operational officer', 'Careers information officer',\n",
       "       'Camera operator', 'Engineer, aeronautical', 'Learning mentor',\n",
       "       'Neurosurgeon', 'Clothing/textile technologist',\n",
       "       'Financial controller', 'Education officer, museum',\n",
       "       'Set designer', 'Accountant, chartered certified', 'Solicitor',\n",
       "       'Forensic psychologist', 'Outdoor activities/education manager',\n",
       "       'Heritage manager', 'Hospital doctor', 'Engineer, chemical',\n",
       "       'Musician', 'Engineer, control and instrumentation',\n",
       "       'Engineer, mining', 'Editor, commissioning',\n",
       "       'Sports development officer', 'Teacher, music',\n",
       "       \"Nurse, children's\", 'Editor, film/video', 'Acupuncturist',\n",
       "       'Data scientist', 'Tax inspector', 'Engineer, maintenance',\n",
       "       'Radiographer, therapeutic', 'Surveyor, commercial/residential',\n",
       "       'Engineer, civil (contracting)', 'Therapist, nutritional',\n",
       "       'Public affairs consultant', 'Warehouse manager',\n",
       "       'Consulting civil engineer', 'Museum/gallery exhibitions officer',\n",
       "       'Risk manager', 'Air traffic controller', 'Health service manager',\n",
       "       'Teacher, adult education', 'Theatre stage manager',\n",
       "       'Designer, fashion/clothing', 'Engineer, site',\n",
       "       'Psychologist, counselling',\n",
       "       'Product/process development scientist', 'Financial adviser',\n",
       "       'Quarry manager', 'Librarian, public', 'Presenter, broadcasting',\n",
       "       'Structural engineer', 'Trade mark attorney',\n",
       "       'Amenity horticulturist', 'Building services engineer',\n",
       "       'Primary school teacher', 'Network engineer',\n",
       "       'Psychotherapist, child', 'Archaeologist',\n",
       "       'Publishing rights manager', 'Economist', 'Herbalist',\n",
       "       'Legal secretary', 'Engineer, manufacturing systems',\n",
       "       'Psychologist, occupational', 'Journalist, broadcasting',\n",
       "       'Lexicographer', 'Clinical psychologist',\n",
       "       'Scientist, water quality',\n",
       "       'Chartered legal executive (England and Wales)', 'Statistician',\n",
       "       'Chartered accountant', 'Operational investment banker',\n",
       "       'Nutritional therapist', 'Actor', 'Ecologist',\n",
       "       'Conservator, furniture', 'Archivist',\n",
       "       'Industrial/product designer', 'Air broker', 'Sports coach',\n",
       "       'Chief Technology Officer', 'Arts administrator',\n",
       "       'Restaurant manager', 'Editorial assistant', 'Cytogeneticist',\n",
       "       'Scientist, marine', 'Surveyor, quantity',\n",
       "       'Designer, exhibition/display', 'Curator',\n",
       "       'Human resources officer', 'Osteopath', 'Therapist, music',\n",
       "       'Volunteer coordinator', 'Office manager',\n",
       "       'Research officer, government', 'Quality manager', 'Artist',\n",
       "       'Museum education officer', 'Exercise physiologist',\n",
       "       'Administrator, charities/voluntary organisations',\n",
       "       'Purchasing manager', 'Therapeutic radiographer', 'Farm manager',\n",
       "       'Tour manager', 'Writer', 'Designer, industrial/product',\n",
       "       'Science writer', 'Engineer, biomedical',\n",
       "       'Development worker, international aid', 'Journalist, newspaper',\n",
       "       'Multimedia specialist', 'Dealer', 'Water engineer',\n",
       "       'Scientist, clinical (histocompatibility and immunogenetics)',\n",
       "       'Special effects artist', 'Engineer, agricultural',\n",
       "       'Corporate investment banker', 'Best boy',\n",
       "       'Production assistant, television', 'Chiropractor',\n",
       "       'Jewellery designer', 'Energy engineer', 'Scientist, forensic',\n",
       "       'Biomedical engineer', 'Insurance account manager',\n",
       "       'Occupational psychologist', 'Diagnostic radiographer', 'Banker',\n",
       "       'Medical technical officer', 'Quantity surveyor',\n",
       "       'Biochemist, clinical', 'Broadcast engineer',\n",
       "       'Chartered management accountant', 'Theatre manager',\n",
       "       'Animal technologist', 'Animator', 'Producer, radio',\n",
       "       'Chiropodist', 'Exhibition designer', 'Occupational therapist',\n",
       "       'Database administrator', 'Arts development officer',\n",
       "       'Health and safety inspector', 'Press photographer',\n",
       "       'Recruitment consultant', 'Dance movement psychotherapist',\n",
       "       'Audiological scientist', 'Soil scientist', 'Equities trader',\n",
       "       'Orthoptist', 'Engineer, materials', 'Regulatory affairs officer',\n",
       "       'Trade union research officer', 'Research scientist (maths)',\n",
       "       'Television production assistant', 'Chief of Staff',\n",
       "       'Advertising copywriter',\n",
       "       'Programme researcher, broadcasting/film/video',\n",
       "       'Technical sales engineer', 'Music therapist',\n",
       "       'Electronics engineer', 'Waste management officer',\n",
       "       'Plant breeder/geneticist', 'Operational researcher',\n",
       "       'Further education lecturer', 'Electrical engineer',\n",
       "       'Television camera operator', 'Runner, broadcasting/film/video',\n",
       "       'Pharmacist, community', 'Ophthalmologist', 'Wellsite geologist',\n",
       "       'Psychologist, educational', 'Advertising account planner',\n",
       "       'Sports therapist', 'Surveyor, building control', 'Engineer, land',\n",
       "       'Clinical embryologist', 'Marine scientist',\n",
       "       'Teacher, secondary school', 'Chief Financial Officer',\n",
       "       'Landscape architect', 'Community pharmacist', 'Product manager',\n",
       "       'Financial risk analyst', 'Administrator',\n",
       "       'Civil engineer, contracting', 'Engineer, maintenance (IT)',\n",
       "       'Scientist, audiological', 'Management consultant', 'Dentist',\n",
       "       'Barrister', 'Surveyor, insurance', 'Customer service manager',\n",
       "       'Clinical cytogeneticist', 'Forest/woodland manager',\n",
       "       'Insurance underwriter', 'Speech and language therapist',\n",
       "       'Trading standards officer', 'Surveyor, building',\n",
       "       'Engineering geologist', 'Investment analyst',\n",
       "       'Research scientist (life sciences)', 'Firefighter',\n",
       "       'Higher education careers adviser', 'Theatre director',\n",
       "       'Passenger transport manager',\n",
       "       'English as a foreign language teacher',\n",
       "       'Research officer, trade union',\n",
       "       'Conservation officer, historic buildings',\n",
       "       'Scientist, product/process development', 'Air cabin crew',\n",
       "       'Colour technologist', 'Research officer, political party',\n",
       "       'Chemist, analytical', 'Hydrogeologist', 'Music tutor',\n",
       "       'Therapist, drama', 'Health physicist',\n",
       "       'Lecturer, higher education', 'Records manager',\n",
       "       'Scientist, research (medical)', 'Field trials officer',\n",
       "       'Adult guidance worker', 'Fine artist',\n",
       "       'Social research officer, government',\n",
       "       'Interior and spatial designer', 'Freight forwarder',\n",
       "       'Production engineer', 'Accommodation manager', 'Retail banker',\n",
       "       'Research scientist (medical)', 'Occupational hygienist',\n",
       "       'Diplomatic Services operational officer', \"Barrister's clerk\",\n",
       "       'Call centre manager', 'Tourism officer',\n",
       "       'Agricultural consultant', 'Armed forces technical officer',\n",
       "       \"Politician's assistant\",\n",
       "       'Geographical information systems officer',\n",
       "       'Chief Operating Officer', 'Higher education lecturer',\n",
       "       'Therapist, occupational', 'Land', 'Print production planner',\n",
       "       'Tree surgeon', 'Physiological scientist',\n",
       "       'Producer, television/film/video', 'Facilities manager',\n",
       "       'Designer, blown glass/stained glass', 'Location manager',\n",
       "       'Maintenance engineer', 'Meteorologist',\n",
       "       'Local government officer', 'Energy manager', 'Estate agent',\n",
       "       'Counsellor', 'Dispensing optician', 'Geophysical data processor',\n",
       "       'Adult nurse', 'Educational psychologist', 'Mental health nurse',\n",
       "       'IT sales professional', 'Water quality scientist',\n",
       "       'Advice worker', 'Intelligence analyst', 'Community arts worker',\n",
       "       'Optometrist', 'Patent examiner',\n",
       "       'Psychotherapist, dance movement', 'Gaffer', 'Risk analyst',\n",
       "       'Financial trader', 'Sales promotion account executive',\n",
       "       'Equality and diversity officer', 'Administrator, education',\n",
       "       'Medical secretary', 'Claims inspector/assessor',\n",
       "       'Child psychotherapist', 'Immigration officer', 'Metallurgist',\n",
       "       'Education administrator', 'Fitness centre manager',\n",
       "       'Chief Strategy Officer', 'Public librarian',\n",
       "       'Furniture conservator/restorer', 'Photographer',\n",
       "       'Production manager', 'Nature conservation officer',\n",
       "       'Phytotherapist', 'Therapist, horticultural',\n",
       "       'Aeronautical engineer', 'Engineer, civil (consulting)',\n",
       "       'Television/film/video producer', 'Solicitor, Scotland',\n",
       "       'Psychologist, forensic', 'Development worker, community',\n",
       "       'Engineer, manufacturing', 'Garment/textile technologist',\n",
       "       'Charity officer', 'Insurance risk surveyor',\n",
       "       'Broadcast presenter', 'Secretary/administrator',\n",
       "       'Civil Service administrator', 'Surveyor, hydrographic',\n",
       "       'Loss adjuster, chartered', 'Secondary school teacher',\n",
       "       'Teacher, special educational needs', 'Engineer, petroleum',\n",
       "       'Surveyor, rural practice', 'Information systems manager',\n",
       "       'Designer, furniture', 'Engineer, energy',\n",
       "       'Conservator, museum/gallery', 'Environmental consultant',\n",
       "       'Doctor, general practice', 'Nurse, mental health',\n",
       "       'Graphic designer', 'Investment banker, corporate', 'Astronomer',\n",
       "       'Data processing manager', 'Stage manager', 'Textile designer',\n",
       "       'Drilling engineer', 'Scientist, research (life sciences)',\n",
       "       'Furniture designer', 'Ambulance person', 'Buyer, industrial',\n",
       "       'Copywriter, advertising', 'Academic librarian',\n",
       "       'Scientist, research (maths)',\n",
       "       'International aid/development worker', 'Engineer, structural',\n",
       "       'Lecturer, further education', 'Interpreter',\n",
       "       'Chief Marketing Officer', 'Transport planner',\n",
       "       'Pharmacist, hospital', 'Toxicologist', 'Proofreader',\n",
       "       'Contracting civil engineer', 'Psychologist, clinical',\n",
       "       'Retail manager', 'Manufacturing systems engineer',\n",
       "       'Art therapist', 'Chartered certified accountant',\n",
       "       'Sales professional, IT', 'Dramatherapist',\n",
       "       'Designer, interior/spatial', 'Administrator, Civil Service',\n",
       "       'Printmaker', 'Engineer, electrical',\n",
       "       'Planning and development surveyor', 'Paediatric nurse',\n",
       "       'Designer, multimedia', 'Herpetologist', 'Mudlogger',\n",
       "       'Engineer, water', 'Arboriculturist', 'Sub',\n",
       "       'Sports administrator', 'Mechanical engineer',\n",
       "       'Physicist, medical',\n",
       "       'Armed forces training and education officer',\n",
       "       'Marketing executive', 'Magazine features editor', 'Ergonomist',\n",
       "       'Mining engineer', 'Dancer', 'Optician, dispensing',\n",
       "       'Designer, textile', 'Ranger/warden', 'Psychiatrist',\n",
       "       'Bonds trader', 'Technical brewer', 'Engineer, building services',\n",
       "       'Field seismologist', 'Engineer, electronics',\n",
       "       'Medical illustrator', 'Architect', 'Engineer, production',\n",
       "       'Licensed conveyancer', 'Surveyor, mining',\n",
       "       'Applications developer', 'Museum/gallery curator',\n",
       "       'Market researcher', 'Radiation protection practitioner',\n",
       "       'Control and instrumentation engineer', 'Programmer, applications',\n",
       "       'Advertising art director',\n",
       "       'Clinical scientist, histocompatibility and immunogenetics',\n",
       "       'Professor Emeritus', 'Horticulturist, amenity', 'Physiotherapist',\n",
       "       'Race relations officer', 'Surveyor, land/geomatics',\n",
       "       'Youth worker', 'Horticultural therapist', 'IT consultant', 'Make',\n",
       "       'Public relations account executive', 'Private music teacher',\n",
       "       'Fashion designer', 'Hospital pharmacist', 'Tax adviser',\n",
       "       'Engineer, broadcasting (operations)',\n",
       "       'Commercial art gallery manager', 'Legal executive',\n",
       "       'Visual merchandiser', 'Commercial/residential surveyor',\n",
       "       'Personal assistant', 'Insurance claims handler',\n",
       "       'Financial manager', 'Tourist information centre manager',\n",
       "       'Scientist, physiological', 'Designer, ceramics/pottery',\n",
       "       'Accountant, chartered management', 'Psychotherapist',\n",
       "       'Health visitor', 'Pharmacologist',\n",
       "       'Special educational needs teacher', 'Public relations officer',\n",
       "       'Town planner', 'Animal nutritionist', 'Building control surveyor',\n",
       "       'Engineer, automotive', 'Information officer',\n",
       "       'Senior tax professional/tax inspector', 'Film/video editor',\n",
       "       'Cabin crew', 'Radiographer, diagnostic', 'Warden/ranger',\n",
       "       'Video editor', 'Airline pilot', 'Newspaper journalist',\n",
       "       'Education officer, community', 'Geologist, engineering',\n",
       "       'Librarian, academic', 'Paramedic', 'Recycling officer',\n",
       "       'Merchandiser, retail', 'Retail merchandiser',\n",
       "       'Administrator, local government', 'Counselling psychologist',\n",
       "       'Estate manager/land agent', 'Oceanographer', 'Haematologist',\n",
       "       'Scientist, research (physical sciences)', 'Medical physicist',\n",
       "       'Communications engineer', 'Surgeon', 'Homeopath',\n",
       "       'Charity fundraiser', 'Theme park manager', 'Barista',\n",
       "       'Chartered public finance accountant',\n",
       "       'Teaching laboratory technician', 'Microbiologist',\n",
       "       'Programmer, multimedia', 'Automotive engineer',\n",
       "       'Holiday representative', 'Systems analyst', 'Product designer',\n",
       "       'Forensic scientist', 'Museum/gallery conservator',\n",
       "       'Patent attorney', 'Ship broker', 'Technical author',\n",
       "       'Pension scheme manager', 'Ceramics designer', 'Careers adviser',\n",
       "       'Building surveyor', 'Public house manager',\n",
       "       'Environmental education officer', 'Journalist, magazine',\n",
       "       'Magazine journalist', 'Analytical chemist',\n",
       "       'Teacher, English as a foreign language',\n",
       "       'Lighting technician, broadcasting/film/video',\n",
       "       'Teacher, early years/pre', 'Commercial horticulturist',\n",
       "       'Publishing copy', 'Clinical biochemist', 'IT trainer',\n",
       "       'Programmer, systems', 'Logistics and distribution manager',\n",
       "       'Horticultural consultant', 'Hotel manager', 'Associate Professor',\n",
       "       'Nurse, learning disability', 'Hydrographic surveyor',\n",
       "       'Nurse, adult', 'Fisheries officer', 'Administrator, sports',\n",
       "       'Insurance broker', 'Veterinary surgeon', 'Designer, jewellery',\n",
       "       'Lobbyist', 'Chemical engineer', 'Chartered loss adjuster',\n",
       "       'Social researcher', 'Petroleum engineer', 'Social worker',\n",
       "       'Education officer, environmental', 'Futures trader',\n",
       "       'Fish farm manager', 'Lawyer', 'Seismic interpreter',\n",
       "       'TEFL teacher', 'Immunologist', 'Engineer, drilling',\n",
       "       'Emergency planning/management officer', 'Pathologist',\n",
       "       'Broadcast journalist', 'Geologist, wellsite',\n",
       "       'Investment banker, operational', 'Biomedical scientist',\n",
       "       'Bookseller', 'Copy', 'Midwife', 'Media buyer',\n",
       "       'Geneticist, molecular', 'Housing manager/officer',\n",
       "       'Geophysicist/field seismologist', 'Art gallery manager',\n",
       "       'Food technologist', 'Land/geomatics surveyor',\n",
       "       'Radio broadcast assistant',\n",
       "       'Psychologist, prison and probation services', 'Dietitian',\n",
       "       'Civil engineer, consulting', 'Sales executive',\n",
       "       'Leisure centre manager', 'Scientist, biomedical',\n",
       "       'Exhibitions officer, museum/gallery', 'Engineer, communications',\n",
       "       'Catering manager', 'Administrator, arts', 'Software engineer',\n",
       "       'Medical laboratory scientific officer', 'Commissioning editor',\n",
       "       'Geoscientist', 'Materials engineer', 'Financial planner',\n",
       "       'Brewing technologist', 'Minerals surveyor',\n",
       "       'Editor, magazine features', 'General practice doctor',\n",
       "       'Health and safety adviser', 'Doctor, hospital',\n",
       "       'Environmental manager', 'Clinical research associate',\n",
       "       'Sound technician, broadcasting/film/video', 'Press sub',\n",
       "       'Retail buyer', 'Comptroller',\n",
       "       'Government social research officer', 'Rural practice surveyor',\n",
       "       'Accountant, chartered'], dtype=object)"
      ]
     },
     "execution_count": 14,
     "metadata": {},
     "output_type": "execute_result"
    }
   ],
   "source": [
    "df.Job.unique()"
   ]
  },
  {
   "cell_type": "code",
   "execution_count": 15,
   "id": "c400925b-0d6a-4fb2-a9af-212d6f28ce2c",
   "metadata": {},
   "outputs": [
    {
     "data": {
      "text/plain": [
       "array(['Some College, Less than 1 Year',\n",
       "       'Some College, 1 or More Years, No Degree',\n",
       "       'GED or Alternative Credential', 'Regular High School Diploma',\n",
       "       \"Bachelor's Degree\", \"Master's Degree\",\n",
       "       'Nursery School to 8th Grade',\n",
       "       '9th Grade to 12th Grade, No Diploma', 'Doctorate Degree',\n",
       "       \"Associate's Degree\", 'Professional School Degree',\n",
       "       'No Schooling Completed'], dtype=object)"
      ]
     },
     "execution_count": 15,
     "metadata": {},
     "output_type": "execute_result"
    }
   ],
   "source": [
    "df.Education.unique()"
   ]
  },
  {
   "cell_type": "code",
   "execution_count": 16,
   "id": "beb8549c-efeb-42f3-a3fd-2a920940099f",
   "metadata": {},
   "outputs": [
    {
     "data": {
      "text/plain": [
       "array(['Divorced', 'Married', 'Widowed', 'Never Married', 'Separated'],\n",
       "      dtype=object)"
      ]
     },
     "execution_count": 16,
     "metadata": {},
     "output_type": "execute_result"
    }
   ],
   "source": [
    "df.Marital.unique()"
   ]
  },
  {
   "cell_type": "code",
   "execution_count": 17,
   "id": "ada684b9-76e2-4964-bf1e-5ee6ad2bb3d3",
   "metadata": {},
   "outputs": [
    {
     "data": {
      "text/plain": [
       "array([nan, 'No', 'Yes'], dtype=object)"
      ]
     },
     "execution_count": 17,
     "metadata": {},
     "output_type": "execute_result"
    }
   ],
   "source": [
    "df.Soft_drink.unique()"
   ]
  },
  {
   "cell_type": "code",
   "execution_count": 18,
   "id": "7aabd16b-f40c-4d11-a62c-cef2fd782778",
   "metadata": {},
   "outputs": [
    {
     "data": {
      "text/plain": [
       "array(['Emergency Admission', 'Elective Admission',\n",
       "       'Observation Admission'], dtype=object)"
      ]
     },
     "execution_count": 18,
     "metadata": {},
     "output_type": "execute_result"
    }
   ],
   "source": [
    "df.Initial_admin.unique()"
   ]
  },
  {
   "cell_type": "code",
   "execution_count": 19,
   "id": "07bf15f3-933b-4bbb-b00b-8a2b7cf14170",
   "metadata": {},
   "outputs": [
    {
     "data": {
      "text/plain": [
       "array(['Yes', 'No'], dtype=object)"
      ]
     },
     "execution_count": 19,
     "metadata": {},
     "output_type": "execute_result"
    }
   ],
   "source": [
    "df.HighBlood.unique()"
   ]
  },
  {
   "cell_type": "code",
   "execution_count": 20,
   "id": "7dd44a03-07c6-47ce-bc53-ad0ae58f87bf",
   "metadata": {},
   "outputs": [
    {
     "data": {
      "text/plain": [
       "array(['No', 'Yes'], dtype=object)"
      ]
     },
     "execution_count": 20,
     "metadata": {},
     "output_type": "execute_result"
    }
   ],
   "source": [
    "df.Stroke.unique()"
   ]
  },
  {
   "cell_type": "code",
   "execution_count": 21,
   "id": "00a3f96a-c889-4bf3-a7c8-777cc2a70e7e",
   "metadata": {},
   "outputs": [
    {
     "data": {
      "text/plain": [
       "array(['Medium', 'High', 'Low'], dtype=object)"
      ]
     },
     "execution_count": 21,
     "metadata": {},
     "output_type": "execute_result"
    }
   ],
   "source": [
    "df.Complication_risk.unique()"
   ]
  },
  {
   "cell_type": "code",
   "execution_count": 22,
   "id": "e526d255-8961-4492-aa72-6e3b50a5c0e5",
   "metadata": {},
   "outputs": [
    {
     "data": {
      "text/plain": [
       "array([ 0.,  1., nan])"
      ]
     },
     "execution_count": 22,
     "metadata": {},
     "output_type": "execute_result"
    }
   ],
   "source": [
    "df.Overweight.unique()"
   ]
  },
  {
   "cell_type": "code",
   "execution_count": 23,
   "id": "00ff7c77-ce5e-4301-8bcc-8af74d4a6c7e",
   "metadata": {},
   "outputs": [
    {
     "data": {
      "text/plain": [
       "array(['Yes', 'No'], dtype=object)"
      ]
     },
     "execution_count": 23,
     "metadata": {},
     "output_type": "execute_result"
    }
   ],
   "source": [
    "df.Arthritis.unique()"
   ]
  },
  {
   "cell_type": "code",
   "execution_count": 24,
   "id": "f4373c66-87e5-45f1-b761-e7f4bda4df63",
   "metadata": {},
   "outputs": [
    {
     "data": {
      "text/plain": [
       "array(['Yes', 'No'], dtype=object)"
      ]
     },
     "execution_count": 24,
     "metadata": {},
     "output_type": "execute_result"
    }
   ],
   "source": [
    "df.Diabetes.unique()"
   ]
  },
  {
   "cell_type": "code",
   "execution_count": 25,
   "id": "d133086d-445b-40d8-b94d-f15619cc579b",
   "metadata": {},
   "outputs": [
    {
     "data": {
      "text/plain": [
       "array(['No', 'Yes'], dtype=object)"
      ]
     },
     "execution_count": 25,
     "metadata": {},
     "output_type": "execute_result"
    }
   ],
   "source": [
    "df.Hyperlipidemia.unique()"
   ]
  },
  {
   "cell_type": "code",
   "execution_count": 26,
   "id": "2b1e9b7d-e11d-4f08-9f93-3bac3edd4b5a",
   "metadata": {},
   "outputs": [
    {
     "data": {
      "text/plain": [
       "array(['Yes', 'No'], dtype=object)"
      ]
     },
     "execution_count": 26,
     "metadata": {},
     "output_type": "execute_result"
    }
   ],
   "source": [
    "df.BackPain.unique()"
   ]
  },
  {
   "cell_type": "code",
   "execution_count": 27,
   "id": "c37c6b82-90e0-44ff-9794-f693730acb3d",
   "metadata": {},
   "outputs": [
    {
     "data": {
      "text/plain": [
       "array([ 1., nan,  0.])"
      ]
     },
     "execution_count": 27,
     "metadata": {},
     "output_type": "execute_result"
    }
   ],
   "source": [
    "df.Anxiety.unique()"
   ]
  },
  {
   "cell_type": "code",
   "execution_count": 28,
   "id": "1dab6dfa-ba31-496b-a44d-666f98561396",
   "metadata": {},
   "outputs": [
    {
     "data": {
      "text/plain": [
       "array(['Yes', 'No'], dtype=object)"
      ]
     },
     "execution_count": 28,
     "metadata": {},
     "output_type": "execute_result"
    }
   ],
   "source": [
    "df.Allergic_rhinitis.unique()"
   ]
  },
  {
   "cell_type": "code",
   "execution_count": 29,
   "id": "64f22dd1-a5a4-467f-911e-1b1e52b8bb2c",
   "metadata": {},
   "outputs": [
    {
     "data": {
      "text/plain": [
       "array(['No', 'Yes'], dtype=object)"
      ]
     },
     "execution_count": 29,
     "metadata": {},
     "output_type": "execute_result"
    }
   ],
   "source": [
    "df.Reflux_esophagitis.unique()"
   ]
  },
  {
   "cell_type": "code",
   "execution_count": 30,
   "id": "6c8a96ca-078d-4cfd-a068-393cf77b3019",
   "metadata": {},
   "outputs": [
    {
     "data": {
      "text/plain": [
       "array(['Yes', 'No'], dtype=object)"
      ]
     },
     "execution_count": 30,
     "metadata": {},
     "output_type": "execute_result"
    }
   ],
   "source": [
    "df.Asthma.unique()\n"
   ]
  },
  {
   "cell_type": "code",
   "execution_count": 31,
   "id": "999a4fcb-b896-4f65-9623-8e66adef96b7",
   "metadata": {},
   "outputs": [
    {
     "data": {
      "text/plain": [
       "array(['Blood Work', 'Intravenous', 'CT Scan', 'MRI'], dtype=object)"
      ]
     },
     "execution_count": 31,
     "metadata": {},
     "output_type": "execute_result"
    }
   ],
   "source": [
    "df.Services.unique()"
   ]
  },
  {
   "cell_type": "code",
   "execution_count": 32,
   "id": "fe264dbe-71b9-4d18-8608-f00d57fbfc10",
   "metadata": {},
   "outputs": [
    {
     "data": {
      "text/plain": [
       "Item1\n",
       "4    3455\n",
       "3    3404\n",
       "5    1377\n",
       "2    1315\n",
       "6     225\n",
       "1     213\n",
       "7      10\n",
       "8       1\n",
       "Name: count, dtype: int64"
      ]
     },
     "execution_count": 32,
     "metadata": {},
     "output_type": "execute_result"
    }
   ],
   "source": [
    "df.Item1.value_counts()"
   ]
  },
  {
   "cell_type": "code",
   "execution_count": 33,
   "id": "295b2c8a-9ad6-43c8-9928-7f1fd38e5657",
   "metadata": {},
   "outputs": [
    {
     "data": {
      "text/plain": [
       "Item2\n",
       "3    3439\n",
       "4    3351\n",
       "5    1421\n",
       "2    1360\n",
       "1     213\n",
       "6     204\n",
       "7      12\n",
       "Name: count, dtype: int64"
      ]
     },
     "execution_count": 33,
     "metadata": {},
     "output_type": "execute_result"
    }
   ],
   "source": [
    "df.Item2.value_counts()"
   ]
  },
  {
   "cell_type": "code",
   "execution_count": 34,
   "id": "c1cd27fe-4831-41a6-8d69-836aa422c60f",
   "metadata": {},
   "outputs": [
    {
     "data": {
      "text/plain": [
       "Item3\n",
       "4    3464\n",
       "3    3379\n",
       "5    1358\n",
       "2    1356\n",
       "6     220\n",
       "1     211\n",
       "7      11\n",
       "8       1\n",
       "Name: count, dtype: int64"
      ]
     },
     "execution_count": 34,
     "metadata": {},
     "output_type": "execute_result"
    }
   ],
   "source": [
    "df.Item3.value_counts()"
   ]
  },
  {
   "cell_type": "code",
   "execution_count": 35,
   "id": "ad539a0c-973a-4fc8-a1fa-ef38f9011235",
   "metadata": {},
   "outputs": [
    {
     "data": {
      "text/plain": [
       "Item4\n",
       "3    3422\n",
       "4    3394\n",
       "5    1388\n",
       "2    1346\n",
       "6     231\n",
       "1     207\n",
       "7      12\n",
       "Name: count, dtype: int64"
      ]
     },
     "execution_count": 35,
     "metadata": {},
     "output_type": "execute_result"
    }
   ],
   "source": [
    "df.Item4.value_counts()"
   ]
  },
  {
   "cell_type": "code",
   "execution_count": 36,
   "id": "0869bf25-4510-4ea1-90f7-7d663494316b",
   "metadata": {},
   "outputs": [
    {
     "data": {
      "text/plain": [
       "Item5\n",
       "4    3446\n",
       "3    3423\n",
       "2    1380\n",
       "5    1308\n",
       "6     219\n",
       "1     211\n",
       "7      13\n",
       "Name: count, dtype: int64"
      ]
     },
     "execution_count": 36,
     "metadata": {},
     "output_type": "execute_result"
    }
   ],
   "source": [
    "df.Item5.value_counts()"
   ]
  },
  {
   "cell_type": "code",
   "execution_count": 37,
   "id": "f5a35a2b-e997-4e5e-8f4e-65a29cf1dccb",
   "metadata": {},
   "outputs": [
    {
     "data": {
      "text/plain": [
       "Item6\n",
       "4    3464\n",
       "3    3371\n",
       "5    1403\n",
       "2    1319\n",
       "6     220\n",
       "1     213\n",
       "7      10\n",
       "Name: count, dtype: int64"
      ]
     },
     "execution_count": 37,
     "metadata": {},
     "output_type": "execute_result"
    }
   ],
   "source": [
    "df.Item6.value_counts()"
   ]
  },
  {
   "cell_type": "code",
   "execution_count": 38,
   "id": "223ac446-a2e6-4ca6-82b5-710acb7f45df",
   "metadata": {
    "scrolled": true
   },
   "outputs": [
    {
     "name": "stdout",
     "output_type": "stream",
     "text": [
      "CaseOrder                0\n",
      "Customer_id              0\n",
      "Interaction              0\n",
      "UID                      0\n",
      "City                     0\n",
      "State                    0\n",
      "County                   0\n",
      "Zip                      0\n",
      "Lat                      0\n",
      "Lng                      0\n",
      "Population               0\n",
      "Area                     0\n",
      "Timezone                 0\n",
      "Job                      0\n",
      "Children              2588\n",
      "Age                   2414\n",
      "Education                0\n",
      "Employment               0\n",
      "Income                2464\n",
      "Marital                  0\n",
      "Gender                   0\n",
      "ReAdmis                  0\n",
      "VitD_levels              0\n",
      "Doc_visits               0\n",
      "Full_meals_eaten         0\n",
      "VitD_supp                0\n",
      "Soft_drink            2467\n",
      "Initial_admin            0\n",
      "HighBlood                0\n",
      "Stroke                   0\n",
      "Complication_risk        0\n",
      "Overweight             982\n",
      "Arthritis                0\n",
      "Diabetes                 0\n",
      "Hyperlipidemia           0\n",
      "BackPain                 0\n",
      "Anxiety                984\n",
      "Allergic_rhinitis        0\n",
      "Reflux_esophagitis       0\n",
      "Asthma                   0\n",
      "Services                 0\n",
      "Initial_days          1056\n",
      "TotalCharge              0\n",
      "Additional_charges       0\n",
      "Item1                    0\n",
      "Item2                    0\n",
      "Item3                    0\n",
      "Item4                    0\n",
      "Item5                    0\n",
      "Item6                    0\n",
      "Item7                    0\n",
      "Item8                    0\n",
      "dtype: int64\n"
     ]
    }
   ],
   "source": [
    "#Find missing data\n",
    "missing_values=df.isnull().sum()\n",
    "print(missing_values)"
   ]
  },
  {
   "cell_type": "code",
   "execution_count": 39,
   "id": "9b1a175b-2d36-47dc-9793-669836824446",
   "metadata": {},
   "outputs": [
    {
     "data": {
      "text/plain": [
       "count    7412.000000\n",
       "mean        2.098219\n",
       "std         2.155427\n",
       "min         0.000000\n",
       "25%         0.000000\n",
       "50%         1.000000\n",
       "75%         3.000000\n",
       "max        10.000000\n",
       "Name: Children, dtype: float64"
      ]
     },
     "execution_count": 39,
     "metadata": {},
     "output_type": "execute_result"
    }
   ],
   "source": [
    "df['Children'].describe()"
   ]
  },
  {
   "cell_type": "code",
   "execution_count": 40,
   "id": "d2d55e70-2096-4c40-a564-c49f6f048d68",
   "metadata": {},
   "outputs": [
    {
     "data": {
      "text/plain": [
       "count    7586.000000\n",
       "mean       53.295676\n",
       "std        20.659182\n",
       "min        18.000000\n",
       "25%        35.000000\n",
       "50%        53.000000\n",
       "75%        71.000000\n",
       "max        89.000000\n",
       "Name: Age, dtype: float64"
      ]
     },
     "execution_count": 40,
     "metadata": {},
     "output_type": "execute_result"
    }
   ],
   "source": [
    "df['Age'].describe()"
   ]
  },
  {
   "cell_type": "code",
   "execution_count": 41,
   "id": "bb8a9777-4dbf-497c-8cd0-7ae9e9b7a54f",
   "metadata": {},
   "outputs": [
    {
     "data": {
      "text/plain": [
       "count      7536.000000\n",
       "mean      40484.438268\n",
       "std       28664.861050\n",
       "min         154.080000\n",
       "25%       19450.792500\n",
       "50%       33942.280000\n",
       "75%       54075.235000\n",
       "max      207249.130000\n",
       "Name: Income, dtype: float64"
      ]
     },
     "execution_count": 41,
     "metadata": {},
     "output_type": "execute_result"
    }
   ],
   "source": [
    "df['Income'].describe()"
   ]
  },
  {
   "cell_type": "code",
   "execution_count": 42,
   "id": "6321c09f-844c-495b-814c-f9a40773dfb9",
   "metadata": {},
   "outputs": [
    {
     "data": {
      "text/plain": [
       "count    8944.000000\n",
       "mean       34.432082\n",
       "std        26.287050\n",
       "min         1.001981\n",
       "25%         7.911709\n",
       "50%        34.446941\n",
       "75%        61.124654\n",
       "max        71.981486\n",
       "Name: Initial_days, dtype: float64"
      ]
     },
     "execution_count": 42,
     "metadata": {},
     "output_type": "execute_result"
    }
   ],
   "source": [
    "df['Initial_days'].describe()"
   ]
  },
  {
   "cell_type": "code",
   "execution_count": 43,
   "id": "b0fc9147-1da1-457c-bd76-20d0a35b4631",
   "metadata": {},
   "outputs": [],
   "source": [
    "#Impute missing values\n",
    "#Fill missing value with median\n",
    "#Convert Children to integer\n",
    "df.Children=df.Children.astype('Int64')\n",
    "df.Children=df.Children.fillna(df.Children.median())\n",
    "#Convert Age to integer\n",
    "df.Age=df.Age.astype('Int64')\n",
    "df.Age=df.Age.fillna(df.Age.median())\n",
    "df.Initial_days=df.Initial_days.fillna(df.Initial_days.median())\n",
    "df.Income=df.Income.fillna(df.Income.median())"
   ]
  },
  {
   "cell_type": "code",
   "execution_count": 44,
   "id": "68f7fbc4-97ea-4c3a-99ca-80fb5e8231ff",
   "metadata": {},
   "outputs": [
    {
     "data": {
      "text/plain": [
       "0    No\n",
       "Name: Soft_drink, dtype: object"
      ]
     },
     "execution_count": 44,
     "metadata": {},
     "output_type": "execute_result"
    }
   ],
   "source": [
    "#Mode for Soft Drink\n",
    "df.Soft_drink.mode()"
   ]
  },
  {
   "cell_type": "code",
   "execution_count": 45,
   "id": "60779eca-2182-4372-9c6e-c992f3b33519",
   "metadata": {},
   "outputs": [],
   "source": [
    "#Impute missing value with mode\n",
    "df.Soft_drink=df.Soft_drink.fillna('No')\n"
   ]
  },
  {
   "cell_type": "code",
   "execution_count": 46,
   "id": "e0c877bd-61a7-4f5d-9d1f-bb0db6f23275",
   "metadata": {},
   "outputs": [
    {
     "data": {
      "text/plain": [
       "0    1.0\n",
       "Name: Overweight, dtype: float64"
      ]
     },
     "execution_count": 46,
     "metadata": {},
     "output_type": "execute_result"
    }
   ],
   "source": [
    "#Mode for Overweight\n",
    "df.Overweight.mode()"
   ]
  },
  {
   "cell_type": "code",
   "execution_count": 47,
   "id": "e55a4f6a-3a57-4ba8-a364-9fbc59a95c1b",
   "metadata": {},
   "outputs": [
    {
     "data": {
      "text/plain": [
       "array([0., 1.])"
      ]
     },
     "execution_count": 47,
     "metadata": {},
     "output_type": "execute_result"
    }
   ],
   "source": [
    "#Impute null values with mode\n",
    "df.Overweight=df.Overweight.fillna(1.0)\n",
    "df.Overweight.unique()"
   ]
  },
  {
   "cell_type": "code",
   "execution_count": 48,
   "id": "73acbf34-f24b-4927-9c5e-6977cc1d6114",
   "metadata": {},
   "outputs": [
    {
     "data": {
      "text/plain": [
       "0    0.0\n",
       "Name: Anxiety, dtype: float64"
      ]
     },
     "execution_count": 48,
     "metadata": {},
     "output_type": "execute_result"
    }
   ],
   "source": [
    "#Mode for anxiety\n",
    "df.Anxiety.mode()"
   ]
  },
  {
   "cell_type": "code",
   "execution_count": 49,
   "id": "1c2b13e9-dd8f-42c6-81af-cf5e0b909d53",
   "metadata": {},
   "outputs": [
    {
     "data": {
      "text/plain": [
       "array([1., 0.])"
      ]
     },
     "execution_count": 49,
     "metadata": {},
     "output_type": "execute_result"
    }
   ],
   "source": [
    "#Impute Anxiety with mode value\n",
    "df.Anxiety=df.Anxiety.fillna(0.0)\n",
    "df.Anxiety.unique()"
   ]
  },
  {
   "cell_type": "code",
   "execution_count": 50,
   "id": "df3c226d-6c3a-4aa3-8940-a0856099211c",
   "metadata": {},
   "outputs": [
    {
     "data": {
      "text/plain": [
       "CaseOrder             0\n",
       "Customer_id           0\n",
       "Interaction           0\n",
       "UID                   0\n",
       "City                  0\n",
       "State                 0\n",
       "County                0\n",
       "Zip                   0\n",
       "Lat                   0\n",
       "Lng                   0\n",
       "Population            0\n",
       "Area                  0\n",
       "Timezone              0\n",
       "Job                   0\n",
       "Children              0\n",
       "Age                   0\n",
       "Education             0\n",
       "Employment            0\n",
       "Income                0\n",
       "Marital               0\n",
       "Gender                0\n",
       "ReAdmis               0\n",
       "VitD_levels           0\n",
       "Doc_visits            0\n",
       "Full_meals_eaten      0\n",
       "VitD_supp             0\n",
       "Soft_drink            0\n",
       "Initial_admin         0\n",
       "HighBlood             0\n",
       "Stroke                0\n",
       "Complication_risk     0\n",
       "Overweight            0\n",
       "Arthritis             0\n",
       "Diabetes              0\n",
       "Hyperlipidemia        0\n",
       "BackPain              0\n",
       "Anxiety               0\n",
       "Allergic_rhinitis     0\n",
       "Reflux_esophagitis    0\n",
       "Asthma                0\n",
       "Services              0\n",
       "Initial_days          0\n",
       "TotalCharge           0\n",
       "Additional_charges    0\n",
       "Item1                 0\n",
       "Item2                 0\n",
       "Item3                 0\n",
       "Item4                 0\n",
       "Item5                 0\n",
       "Item6                 0\n",
       "Item7                 0\n",
       "Item8                 0\n",
       "dtype: int64"
      ]
     },
     "execution_count": 50,
     "metadata": {},
     "output_type": "execute_result"
    }
   ],
   "source": [
    "#Verify there are no more missing values\n",
    "df.isnull().sum()"
   ]
  },
  {
   "cell_type": "code",
   "execution_count": 51,
   "id": "f3331c82-4664-4106-aa3a-88331914956f",
   "metadata": {},
   "outputs": [],
   "source": [
    "#Zipcodes are integer rather than strings and have lost their leading 0's\n",
    "#Convert zipcode to string from integer\n",
    "df.Zip=df.Zip.astype('str').str.zfill(5)"
   ]
  },
  {
   "cell_type": "code",
   "execution_count": 52,
   "id": "7a77dc49-b782-4c87-b5ce-2b65f6ee12aa",
   "metadata": {},
   "outputs": [],
   "source": [
    "#Convert column Area to category\n",
    "df.Area=df.Area.astype('category')"
   ]
  },
  {
   "cell_type": "code",
   "execution_count": 53,
   "id": "2d09bfae-5e06-4a0e-bf06-4a9d63245df4",
   "metadata": {},
   "outputs": [
    {
     "name": "stderr",
     "output_type": "stream",
     "text": [
      "C:\\Users\\oviya\\AppData\\Local\\Temp\\ipykernel_28896\\4248068734.py:2: FutureWarning: A value is trying to be set on a copy of a DataFrame or Series through chained assignment using an inplace method.\n",
      "The behavior will change in pandas 3.0. This inplace method will never work because the intermediate object on which we are setting values always behaves as a copy.\n",
      "\n",
      "For example, when doing 'df[col].method(value, inplace=True)', try using 'df.method({col: value}, inplace=True)' or df[col] = df[col].method(value) instead, to perform the operation inplace on the original object.\n",
      "\n",
      "\n",
      "  df.Timezone.replace({\n"
     ]
    }
   ],
   "source": [
    "#Replace city-specific values with time-zone specific values\n",
    "df.Timezone.replace({\n",
    "\"America/Puerto_Rico\" : \"US - Puerto Rico\",\n",
    "\"America/New_York\": \"US - Eastern\",\n",
    "\"America/Detroit\" : \"US - Eastern\",\n",
    "\"America/Indiana/Indianapolis\" : \"US - Eastern\",\n",
    "\"America/Indiana/Vevay\" : \"US - Eastern\",\n",
    "\"America/Indiana/Vincennes\" : \"US - Eastern\",\n",
    "\"America/Kentucky/Louisville\" : \"US - Eastern\",\n",
    "\"America/Toronto\" : \"US - Eastern\",\n",
    "\"America/Indiana/Marengo\" : \"US - Eastern\",\n",
    "\"America/Indiana/Winamac\" : \"US - Eastern\",\n",
    "\"America/Chicago\" : \"US - Central\",\n",
    "\"America/Menominee\" : \"US - Central\",\n",
    "\"America/Indiana/Knox\" : \"US - Central\",\n",
    "\"America/Indiana/Tell_City\" : \"US - Central\",\n",
    "\"America/North_Dakota/Beulah\" : \"US - Central\",\n",
    "\"America/North_Dakota/New_Salem\" : \"US - Central\",\n",
    "\"America/Denver\" : \"US - Mountain\",\n",
    "\"America/Boise\" : \"US - Mountain\",\n",
    "\"America/Phoenix\" : \"US - Arizona\",\n",
    "\"America/Los_Angeles\" : \"US - Pacific\",\n",
    "\"America/Nome\" : \"US - Alaskan\",\n",
    "\"America/Anchorage\" : \"US - Alaskan\",\n",
    "\"America/Sitka\" : \"US - Alaskan\",\n",
    "\"America/Yakutat\" : \"US - Alaskan\",\n",
    "\"America/Adak\" : \"US - Aleutian\",\n",
    "\"Pacific/Honolulu\" : \"US - Hawaiian\"    \n",
    "}, inplace=True)"
   ]
  },
  {
   "cell_type": "code",
   "execution_count": 54,
   "id": "2ee24b2d-d2a8-4dae-a698-483c33349837",
   "metadata": {},
   "outputs": [],
   "source": [
    "#Convert Timezone to category\n",
    "df.Timezone=df.Timezone.astype('category')"
   ]
  },
  {
   "cell_type": "code",
   "execution_count": 55,
   "id": "53e24313-ddc5-4976-a3a9-9f73998e05e1",
   "metadata": {},
   "outputs": [],
   "source": [
    "#Rename the survey columns with reference to the data dictionary provided\n",
    "df.rename(columns={'Item1': 'Timely admission', 'Item2': 'Timely treatment ', 'Item3': 'Timely visits', 'Item4': 'Reliability', 'Item5': 'Options', 'Item6':'Hours of treatment ', 'Item7':'Courteous staff ', 'Item8':'Evidence of active listening from doctor '}, inplace=True)"
   ]
  },
  {
   "cell_type": "code",
   "execution_count": 56,
   "id": "7af1feaf-e40b-4b17-b9f1-b73f15439411",
   "metadata": {},
   "outputs": [],
   "source": [
    "#establish an ordered categorical datatype structure\n",
    "survey_scores=CategoricalDtype(categories=['8', '7', '6', '5', '4', '3', '2', '1'], ordered=True)"
   ]
  },
  {
   "cell_type": "code",
   "execution_count": 57,
   "id": "7ffb8f84-6121-4fe9-b57b-d70e8f1d3bc8",
   "metadata": {},
   "outputs": [],
   "source": [
    "df['Timely admission']=df['Timely admission'].map(str)\n",
    "df['Timely admission']=df['Timely admission'].astype(survey_scores)\n"
   ]
  },
  {
   "cell_type": "code",
   "execution_count": 58,
   "id": "37f6e095-909f-4a14-8810-c7a353e08932",
   "metadata": {},
   "outputs": [],
   "source": [
    "df['Timely treatment ']=df['Timely treatment '].astype(str)\n",
    "df['Timely treatment ']=df['Timely treatment '].astype(survey_scores)"
   ]
  },
  {
   "cell_type": "code",
   "execution_count": 59,
   "id": "a4d71f3d-3e03-44eb-817a-bd0dd8c79eab",
   "metadata": {},
   "outputs": [],
   "source": [
    "df['Timely visits']=df['Timely visits'].map(str)\n",
    "df['Timely visits']=df['Timely visits'].astype(survey_scores)"
   ]
  },
  {
   "cell_type": "code",
   "execution_count": 60,
   "id": "4b6e2e28-8561-4e9f-8341-4afcd9d1e271",
   "metadata": {},
   "outputs": [],
   "source": [
    "df['Reliability']=df['Reliability'].map(str)\n",
    "df['Reliability']=df['Reliability'].astype(survey_scores)"
   ]
  },
  {
   "cell_type": "code",
   "execution_count": 61,
   "id": "5fccc518-0777-4738-b114-4d0af92173ed",
   "metadata": {},
   "outputs": [],
   "source": [
    "df['Options']=df['Options'].map(str)\n",
    "df['Options']=df['Options'].astype(survey_scores)"
   ]
  },
  {
   "cell_type": "code",
   "execution_count": 62,
   "id": "7dc5c56b-f242-4781-9cc4-e869fb248275",
   "metadata": {},
   "outputs": [],
   "source": [
    "df['Hours of treatment ']=df['Hours of treatment '].map(str)\n",
    "df['Hours of treatment ']=df['Hours of treatment '].astype(survey_scores)"
   ]
  },
  {
   "cell_type": "code",
   "execution_count": 63,
   "id": "b21f277f-716e-4e15-afa2-6b610e3ea742",
   "metadata": {},
   "outputs": [],
   "source": [
    "df['Courteous staff ']=df['Courteous staff '].map(str)\n",
    "df['Courteous staff ']=df['Courteous staff '].astype(survey_scores)"
   ]
  },
  {
   "cell_type": "code",
   "execution_count": 64,
   "id": "52b49353-096f-43df-ab19-8a10d4ef9837",
   "metadata": {},
   "outputs": [],
   "source": [
    "df['Evidence of active listening from doctor ']=df['Evidence of active listening from doctor '].map(str)\n",
    "df['Evidence of active listening from doctor ']=df['Evidence of active listening from doctor '].astype(survey_scores)"
   ]
  },
  {
   "cell_type": "code",
   "execution_count": 65,
   "id": "32e2c4f7-3fb8-4c9d-8ca1-9abd3b0cc7d1",
   "metadata": {},
   "outputs": [],
   "source": [
    "#Convert Job to category\n",
    "df.Job=df.Job.astype('category')"
   ]
  },
  {
   "cell_type": "code",
   "execution_count": 66,
   "id": "15cdfb26-2933-4e1c-b40c-8018d4ee95ab",
   "metadata": {},
   "outputs": [],
   "source": [
    "#Convert education to category\n",
    "df.Education=df.Education.astype('category')"
   ]
  },
  {
   "cell_type": "code",
   "execution_count": 67,
   "id": "7714ef48-8912-4b69-8159-87f18d16b8d3",
   "metadata": {},
   "outputs": [],
   "source": [
    "#Convert employment to category\n",
    "df.Employment=df.Employment.astype('category')"
   ]
  },
  {
   "cell_type": "code",
   "execution_count": 68,
   "id": "4f6a340c-474c-44f2-adbc-41a448c9e68f",
   "metadata": {},
   "outputs": [],
   "source": [
    "#Convert marital to category\n",
    "df.Marital=df.Marital.astype('category')"
   ]
  },
  {
   "cell_type": "code",
   "execution_count": 69,
   "id": "82ce9da2-89c0-4f1f-b867-ba1543a9be4b",
   "metadata": {},
   "outputs": [],
   "source": [
    "#Convert initial Admin to category\n",
    "df.Initial_admin=df.Initial_admin.astype('category')"
   ]
  },
  {
   "cell_type": "code",
   "execution_count": 70,
   "id": "cb5d1f9f-7cd8-4943-ae55-41eea922af6f",
   "metadata": {},
   "outputs": [],
   "source": [
    "#Convert Complicated risk to category\n",
    "df.Complication_risk=df.Complication_risk.astype('category')"
   ]
  },
  {
   "cell_type": "code",
   "execution_count": 71,
   "id": "f1a5504e-46f6-4840-9804-86038d1495f9",
   "metadata": {},
   "outputs": [
    {
     "name": "stderr",
     "output_type": "stream",
     "text": [
      "C:\\Users\\oviya\\AppData\\Local\\Temp\\ipykernel_28896\\107937030.py:2: FutureWarning: A value is trying to be set on a copy of a DataFrame or Series through chained assignment using an inplace method.\n",
      "The behavior will change in pandas 3.0. This inplace method will never work because the intermediate object on which we are setting values always behaves as a copy.\n",
      "\n",
      "For example, when doing 'df[col].method(value, inplace=True)', try using 'df.method({col: value}, inplace=True)' or df[col] = df[col].method(value) instead, to perform the operation inplace on the original object.\n",
      "\n",
      "\n",
      "  df.Gender.replace({\n"
     ]
    },
    {
     "data": {
      "text/plain": [
       "array(['Male', 'Female', 'Non Binary'], dtype=object)"
      ]
     },
     "execution_count": 71,
     "metadata": {},
     "output_type": "execute_result"
    }
   ],
   "source": [
    "#Replace value of 'Prefer Not to Answer' with Non Binary\n",
    "df.Gender.replace({\n",
    "    'Prefer not to answer':'Non Binary'\n",
    "}, inplace=True)\n",
    "\n",
    "df.Gender.unique()"
   ]
  },
  {
   "cell_type": "code",
   "execution_count": 72,
   "id": "c96ff6b3-78fa-4d4c-bad3-13b820abffc1",
   "metadata": {},
   "outputs": [],
   "source": [
    "#Convert Gender to category\n",
    "df.Gender=df.Gender.astype('category')"
   ]
  },
  {
   "cell_type": "code",
   "execution_count": 73,
   "id": "4650ea61-2ead-4d4b-85ef-fbbac081132f",
   "metadata": {},
   "outputs": [],
   "source": [
    "#covert services to category\n",
    "df.Services=df.Services.astype('category')"
   ]
  },
  {
   "cell_type": "code",
   "execution_count": 74,
   "id": "352b7455-f991-47ca-a73f-8fdefd9cba36",
   "metadata": {},
   "outputs": [
    {
     "data": {
      "text/plain": [
       "0     No\n",
       "1    Yes\n",
       "2    Yes\n",
       "3     No\n",
       "4     No\n",
       "Name: Overweight, dtype: object"
      ]
     },
     "execution_count": 74,
     "metadata": {},
     "output_type": "execute_result"
    }
   ],
   "source": [
    "#Convert the Overweight values to Yes/No\n",
    "df.Overweight=df.Overweight.replace({0.0: 'No', 1.0: 'Yes'})\n",
    "df.Overweight.head()"
   ]
  },
  {
   "cell_type": "code",
   "execution_count": 75,
   "id": "470cf1dd-2d8d-49a8-9233-35064ca66e7b",
   "metadata": {},
   "outputs": [
    {
     "data": {
      "text/plain": [
       "0    Yes\n",
       "1     No\n",
       "2     No\n",
       "3     No\n",
       "4     No\n",
       "Name: Anxiety, dtype: object"
      ]
     },
     "execution_count": 75,
     "metadata": {},
     "output_type": "execute_result"
    }
   ],
   "source": [
    "#Convert the Anxiety values to Yes/No\n",
    "df.Anxiety=df.Anxiety.replace({0.0:'No', 1.0:'Yes'})\n",
    "df.Anxiety.head()"
   ]
  },
  {
   "cell_type": "code",
   "execution_count": 76,
   "id": "483d71ae-3fd0-4b98-bec2-100b079b829e",
   "metadata": {},
   "outputs": [],
   "source": [
    "df.Initial_days=df.Initial_days.astype('int64')"
   ]
  },
  {
   "cell_type": "code",
   "execution_count": 77,
   "id": "74d4bfb9-bc8f-4f33-9d21-b75bd757765a",
   "metadata": {},
   "outputs": [],
   "source": [
    "df.TotalCharge=df.TotalCharge.round(2)"
   ]
  },
  {
   "cell_type": "code",
   "execution_count": 78,
   "id": "7fcc6041-e21a-4c8b-af76-a7f9fd2c8c64",
   "metadata": {},
   "outputs": [],
   "source": [
    "df.Additional_charges=df.Additional_charges.round(2)"
   ]
  },
  {
   "cell_type": "code",
   "execution_count": 79,
   "id": "c42af2a2-b7af-44be-bef1-e6412ad2b9f6",
   "metadata": {},
   "outputs": [
    {
     "name": "stdout",
     "output_type": "stream",
     "text": [
      "<class 'pandas.core.frame.DataFrame'>\n",
      "RangeIndex: 10000 entries, 0 to 9999\n",
      "Data columns (total 52 columns):\n",
      " #   Column                                     Non-Null Count  Dtype   \n",
      "---  ------                                     --------------  -----   \n",
      " 0   CaseOrder                                  10000 non-null  int64   \n",
      " 1   Customer_id                                10000 non-null  object  \n",
      " 2   Interaction                                10000 non-null  object  \n",
      " 3   UID                                        10000 non-null  object  \n",
      " 4   City                                       10000 non-null  object  \n",
      " 5   State                                      10000 non-null  object  \n",
      " 6   County                                     10000 non-null  object  \n",
      " 7   Zip                                        10000 non-null  object  \n",
      " 8   Lat                                        10000 non-null  float64 \n",
      " 9   Lng                                        10000 non-null  float64 \n",
      " 10  Population                                 10000 non-null  int64   \n",
      " 11  Area                                       10000 non-null  category\n",
      " 12  Timezone                                   10000 non-null  category\n",
      " 13  Job                                        10000 non-null  category\n",
      " 14  Children                                   10000 non-null  Int64   \n",
      " 15  Age                                        10000 non-null  Int64   \n",
      " 16  Education                                  10000 non-null  category\n",
      " 17  Employment                                 10000 non-null  category\n",
      " 18  Income                                     10000 non-null  float64 \n",
      " 19  Marital                                    10000 non-null  category\n",
      " 20  Gender                                     10000 non-null  category\n",
      " 21  ReAdmis                                    10000 non-null  object  \n",
      " 22  VitD_levels                                10000 non-null  float64 \n",
      " 23  Doc_visits                                 10000 non-null  int64   \n",
      " 24  Full_meals_eaten                           10000 non-null  int64   \n",
      " 25  VitD_supp                                  10000 non-null  int64   \n",
      " 26  Soft_drink                                 10000 non-null  object  \n",
      " 27  Initial_admin                              10000 non-null  category\n",
      " 28  HighBlood                                  10000 non-null  object  \n",
      " 29  Stroke                                     10000 non-null  object  \n",
      " 30  Complication_risk                          10000 non-null  category\n",
      " 31  Overweight                                 10000 non-null  object  \n",
      " 32  Arthritis                                  10000 non-null  object  \n",
      " 33  Diabetes                                   10000 non-null  object  \n",
      " 34  Hyperlipidemia                             10000 non-null  object  \n",
      " 35  BackPain                                   10000 non-null  object  \n",
      " 36  Anxiety                                    10000 non-null  object  \n",
      " 37  Allergic_rhinitis                          10000 non-null  object  \n",
      " 38  Reflux_esophagitis                         10000 non-null  object  \n",
      " 39  Asthma                                     10000 non-null  object  \n",
      " 40  Services                                   10000 non-null  category\n",
      " 41  Initial_days                               10000 non-null  int64   \n",
      " 42  TotalCharge                                10000 non-null  float64 \n",
      " 43  Additional_charges                         10000 non-null  float64 \n",
      " 44  Timely admission                           10000 non-null  category\n",
      " 45  Timely treatment                           10000 non-null  category\n",
      " 46  Timely visits                              10000 non-null  category\n",
      " 47  Reliability                                10000 non-null  category\n",
      " 48  Options                                    10000 non-null  category\n",
      " 49  Hours of treatment                         10000 non-null  category\n",
      " 50  Courteous staff                            10000 non-null  category\n",
      " 51  Evidence of active listening from doctor   10000 non-null  category\n",
      "dtypes: Int64(2), category(18), float64(6), int64(6), object(20)\n",
      "memory usage: 2.8+ MB\n"
     ]
    }
   ],
   "source": [
    "df.info()"
   ]
  },
  {
   "cell_type": "code",
   "execution_count": 80,
   "id": "0b038cc7-387e-4b75-92e8-92ad60220849",
   "metadata": {},
   "outputs": [
    {
     "data": {
      "image/png": "[encoded data removed]",
      "text/plain": [
       "<Figure size 640x480 with 1 Axes>"
      ]
     },
     "metadata": {},
     "output_type": "display_data"
    }
   ],
   "source": [
    "#Identify outliers for quantitative values CHildren, Income Vitamin D levels, Total and Additional charges\n",
    "df[['Children', 'Income', 'VitD_levels', 'TotalCharge', 'Additional_charges']].boxplot()\n",
    "plt.title('Boxplot for Multiple columns')\n",
    "plt.xlabel('Columns')\n",
    "plt.ylabel('Values')\n",
    "\n",
    "plt.show()"
   ]
  },
  {
   "cell_type": "code",
   "execution_count": 81,
   "id": "09fcf907-b4be-4882-9c35-145dc35c3b59",
   "metadata": {},
   "outputs": [
    {
     "data": {
      "text/plain": [
       "Children\n",
       "1     4446\n",
       "0     1880\n",
       "3     1113\n",
       "2     1094\n",
       "4      739\n",
       "8      157\n",
       "7      154\n",
       "6      145\n",
       "5      126\n",
       "9       83\n",
       "10      63\n",
       "Name: count, dtype: Int64"
      ]
     },
     "execution_count": 81,
     "metadata": {},
     "output_type": "execute_result"
    }
   ],
   "source": [
    "#Lets examine the Children values\n",
    "df.Children.value_counts()"
   ]
  },
  {
   "cell_type": "code",
   "execution_count": 82,
   "id": "a52bd5e4-7820-495f-967d-27cf4a2bb477",
   "metadata": {},
   "outputs": [
    {
     "data": {
      "text/plain": [
       "count     10000.000000\n",
       "mean      38872.450471\n",
       "std       25042.796229\n",
       "min         154.080000\n",
       "25%       23956.162500\n",
       "50%       33942.280000\n",
       "75%       46466.797500\n",
       "max      207249.130000\n",
       "Name: Income, dtype: float64"
      ]
     },
     "execution_count": 82,
     "metadata": {},
     "output_type": "execute_result"
    }
   ],
   "source": [
    "#Let's view the values\n",
    "df.Income.describe()"
   ]
  },
  {
   "cell_type": "markdown",
   "id": "a0166f77-0d92-40b8-82ff-0027fabac6f6",
   "metadata": {},
   "source": [
    "Calculate the Interquarantile Range (IQR)\n",
    "IQR= 75th - 25th percentile\n",
    "IQR = 46,466.80 - 23,956.16 = 22,510.64\n",
    "\n",
    "Lower bound = 25th percentile - 1.5 * IQR \n",
    "Upper bound = 75th percentile + 1.5 * IQR\n",
    "\n",
    "Calculate the bounds:\n",
    "Lower Bound: 23956.16-1.5 * 22,510.64 = -9,809.80\n",
    "Upper Bound: 46,466.79 -1.5 * 22,510.64 = 80,232.77\n"
   ]
  },
  {
   "cell_type": "code",
   "execution_count": 84,
   "id": "16d86d62-0d82-4789-b6c6-2e719422c908",
   "metadata": {},
   "outputs": [
    {
     "data": {
      "text/plain": [
       "0"
      ]
     },
     "execution_count": 84,
     "metadata": {},
     "output_type": "execute_result"
    }
   ],
   "source": [
    "#mitigate the outlier for Income column\n",
    "# Check for any unexpected tuple-like entries, should return 0 if there are no tuple like rows\n",
    "df['Income'].apply(lambda x: isinstance(x, tuple)).sum()\n"
   ]
  },
  {
   "cell_type": "code",
   "execution_count": 85,
   "id": "608ace5e-fa8b-443d-bb74-4a87e6581573",
   "metadata": {},
   "outputs": [],
   "source": [
    "upper_cap = 80232.77"
   ]
  },
  {
   "cell_type": "code",
   "execution_count": 86,
   "id": "c44ace67-f7e4-4899-b6c3-7c71e7b81f1f",
   "metadata": {},
   "outputs": [],
   "source": [
    "# Apply the cap\n",
    "df['Income'] = df['Income'].apply(lambda x: min(x, upper_cap))"
   ]
  },
  {
   "cell_type": "code",
   "execution_count": 87,
   "id": "2d4f74b0-821d-4318-b581-9c05b8571adf",
   "metadata": {},
   "outputs": [
    {
     "name": "stdout",
     "output_type": "stream",
     "text": [
      "80232.77\n"
     ]
    }
   ],
   "source": [
    "print(df['Income'].max()) "
   ]
  },
  {
   "cell_type": "code",
   "execution_count": 88,
   "id": "1da2ca02-8f00-4e63-95cb-62688f41a414",
   "metadata": {},
   "outputs": [
    {
     "data": {
      "image/png": "[encoded data removed]",
      "text/plain": [
       "<Figure size 640x480 with 1 Axes>"
      ]
     },
     "metadata": {},
     "output_type": "display_data"
    }
   ],
   "source": [
    "sns.histplot(df['Income'], bins=30, kde=False)\n",
    "\n",
    "plt.title('Histogram of Income (After Capping)')\n",
    "plt.xlabel('Income')\n",
    "plt.ylabel('Frequency')\n",
    "\n",
    "plt.show()"
   ]
  },
  {
   "cell_type": "code",
   "execution_count": 89,
   "id": "b347a281-26d5-4b18-85de-cd6ee086ccf2",
   "metadata": {},
   "outputs": [
    {
     "data": {
      "text/plain": [
       "count    10000.000000\n",
       "mean        19.412675\n",
       "std          6.723277\n",
       "min          9.519012\n",
       "25%         16.513171\n",
       "50%         18.080560\n",
       "75%         19.789740\n",
       "max         53.019124\n",
       "Name: VitD_levels, dtype: float64"
      ]
     },
     "execution_count": 89,
     "metadata": {},
     "output_type": "execute_result"
    }
   ],
   "source": [
    "#Lets observe the vitamin d levels\n",
    "df.VitD_levels.describe()"
   ]
  },
  {
   "cell_type": "code",
   "execution_count": 90,
   "id": "afa02f30-58d3-444b-8165-b69f880c8c90",
   "metadata": {},
   "outputs": [
    {
     "data": {
      "text/plain": [
       "count    10000.000000\n",
       "mean      5891.538279\n",
       "std       3377.558157\n",
       "min       1256.750000\n",
       "25%       3253.237500\n",
       "50%       5852.250000\n",
       "75%       7614.985000\n",
       "max      21524.220000\n",
       "Name: TotalCharge, dtype: float64"
      ]
     },
     "execution_count": 90,
     "metadata": {},
     "output_type": "execute_result"
    }
   ],
   "source": [
    "#lets look at at total charges\n",
    "df.TotalCharge.describe()"
   ]
  },
  {
   "cell_type": "markdown",
   "id": "968f132f-433c-4d9c-9b42-fa2a47236ef0",
   "metadata": {},
   "source": [
    "Calculate the Interquarantile Range IQR\n",
    "IQR= 75th - 25th percentile 7614.98 - 3253.23 =  4,361.75\n",
    "Lower bound = 25th percentile - 1.5 * IQR  3253.23 - 1.5 * 4361.75 = -3,289.395\n",
    "Upper bound = 75th percentile + 1.5 * IQR  7614.98 + 1.5 * 4361.75 = 14,157.605"
   ]
  },
  {
   "cell_type": "code",
   "execution_count": 92,
   "id": "cb7b45f5-4fc1-4371-8dc1-259c6e9dc4a2",
   "metadata": {},
   "outputs": [
    {
     "data": {
      "text/plain": [
       "0"
      ]
     },
     "execution_count": 92,
     "metadata": {},
     "output_type": "execute_result"
    }
   ],
   "source": [
    "#mitigate the outlier for Income column\n",
    "# Check for any unexpected tuple-like entries, should return 0 if there are no tuple like rows\n",
    "df['TotalCharge'].apply(lambda x: isinstance(x, tuple)).sum()"
   ]
  },
  {
   "cell_type": "code",
   "execution_count": 93,
   "id": "a8a5c300-213d-4675-beb3-1657e4def693",
   "metadata": {},
   "outputs": [],
   "source": [
    "#upper cap\n",
    "TotalCharge_upper_cap= 14157.605"
   ]
  },
  {
   "cell_type": "code",
   "execution_count": 94,
   "id": "0edf8d00-c6c5-4256-858d-8754d1bad5b2",
   "metadata": {},
   "outputs": [],
   "source": [
    "df['TotalCharge'] = df['TotalCharge'].apply(lambda x: min(x, TotalCharge_upper_cap))"
   ]
  },
  {
   "cell_type": "code",
   "execution_count": 95,
   "id": "75d085d5-685e-4101-87cb-624ce51d0f1e",
   "metadata": {},
   "outputs": [
    {
     "name": "stdout",
     "output_type": "stream",
     "text": [
      "14157.605\n"
     ]
    }
   ],
   "source": [
    "print(df.TotalCharge.max())"
   ]
  },
  {
   "cell_type": "code",
   "execution_count": 96,
   "id": "28e3528c-2b7b-45de-b55a-27272d53f453",
   "metadata": {},
   "outputs": [
    {
     "data": {
      "image/png": "[encoded data removed]",
      "text/plain": [
       "<Figure size 640x480 with 1 Axes>"
      ]
     },
     "metadata": {},
     "output_type": "display_data"
    }
   ],
   "source": [
    "sns.histplot(df['TotalCharge'], bins=30, kde=False)\n",
    "\n",
    "plt.title('Histogram of Total Charge (After Capping)')\n",
    "plt.xlabel('Total Charge')\n",
    "plt.ylabel('Frequency')\n",
    "\n",
    "plt.show()"
   ]
  },
  {
   "cell_type": "code",
   "execution_count": 97,
   "id": "43be503e-a7d3-47a1-bcc7-fb5aeee1b0db",
   "metadata": {},
   "outputs": [
    {
     "data": {
      "text/plain": [
       "count    10000.000000\n",
       "mean     12934.528588\n",
       "std       6542.601553\n",
       "min       3125.700000\n",
       "25%       7986.485000\n",
       "50%      11573.980000\n",
       "75%      15626.490000\n",
       "max      30566.070000\n",
       "Name: Additional_charges, dtype: float64"
      ]
     },
     "execution_count": 97,
     "metadata": {},
     "output_type": "execute_result"
    }
   ],
   "source": [
    "#Lets observe the Additional charges value \n",
    "df.Additional_charges.describe()"
   ]
  },
  {
   "cell_type": "markdown",
   "id": "ad29ab1d-efcb-4cd4-b549-af94cb4d87bd",
   "metadata": {},
   "source": [
    "Calculate the Interquarantile Range IQR\n",
    "IQR= 75th - 25th percentile  15626.49 - 7986.48 = 7,640.01\n",
    "Lower bound = 25th percentile - 1.5 * IQR  7986.48 - 1.5 * 7,640.01  = -3,473.535\n",
    "Upper bound = 75th percentile + 1.5 * IQR  15626.49 + 1.5 * 7,640.01 = 27,086.505"
   ]
  },
  {
   "cell_type": "code",
   "execution_count": 99,
   "id": "e6b34bbe-85da-46c8-ab40-67f73e525b09",
   "metadata": {},
   "outputs": [
    {
     "data": {
      "text/plain": [
       "0"
      ]
     },
     "execution_count": 99,
     "metadata": {},
     "output_type": "execute_result"
    }
   ],
   "source": [
    "#Mitigate the outliers for Additional charge\n",
    "# Check for any unexpected tuple-like entries, should return 0 if there are no tuple like rows\n",
    "df['Additional_charges'].apply(lambda x: isinstance(x, tuple)).sum()\n"
   ]
  },
  {
   "cell_type": "code",
   "execution_count": 100,
   "id": "8cb72bba-2cee-412c-9359-44f9857f9e39",
   "metadata": {},
   "outputs": [],
   "source": [
    "Additionalcharge_upper_bound = 27086.505"
   ]
  },
  {
   "cell_type": "code",
   "execution_count": 101,
   "id": "93463d14-084e-49b0-a218-1f999ccc5b81",
   "metadata": {},
   "outputs": [],
   "source": [
    "df['Additional_charges'] = df['Additional_charges'].apply(lambda x: min(x, Additionalcharge_upper_bound))"
   ]
  },
  {
   "cell_type": "code",
   "execution_count": 102,
   "id": "dec63d0d-3258-434c-95d7-2b88fa99c306",
   "metadata": {},
   "outputs": [
    {
     "name": "stdout",
     "output_type": "stream",
     "text": [
      "27086.505\n"
     ]
    }
   ],
   "source": [
    "print(df.Additional_charges.max())"
   ]
  },
  {
   "cell_type": "code",
   "execution_count": 103,
   "id": "e5333205-c071-432e-9c12-7ba546c9027d",
   "metadata": {},
   "outputs": [
    {
     "data": {
      "image/png": "[encoded data removed]",
      "text/plain": [
       "<Figure size 640x480 with 1 Axes>"
      ]
     },
     "metadata": {},
     "output_type": "display_data"
    }
   ],
   "source": [
    "sns.histplot(df['Additional_charges'], bins=30, kde=False)\n",
    "\n",
    "plt.title('Histogram of Additional Charge (After Capping)')\n",
    "plt.xlabel('Additional Charge')\n",
    "plt.ylabel('Frequency')\n",
    "\n",
    "plt.show()"
   ]
  },
  {
   "cell_type": "code",
   "execution_count": 104,
   "id": "48d8df55-c215-4a21-aaa3-7159029192dd",
   "metadata": {},
   "outputs": [],
   "source": [
    "#save dataframe to CSV\n",
    "#df.to_csv('output.csv', index=False)"
   ]
  },
  {
   "cell_type": "code",
   "execution_count": 105,
   "id": "af23db3c-9f26-428d-a0e4-2c2b373d8b78",
   "metadata": {
    "scrolled": true
   },
   "outputs": [
    {
     "data": {
      "image/png": "[encoded data removed]",
      "text/plain": [
       "<Figure size 640x480 with 1 Axes>"
      ]
     },
     "metadata": {},
     "output_type": "display_data"
    }
   ],
   "source": [
    "#Store all quantitative variables in a new data frame for the Principal Component Analysis\n",
    "df_pca=df[['Lat', 'Lng', 'Population', 'Children', 'Age', 'Income', 'VitD_levels', 'Doc_visits', 'Full_meals_eaten', 'VitD_supp', 'Initial_days', 'TotalCharge', 'Additional_charges']]\n",
    "#Normalize the column\n",
    "df_normalized=(df_pca-df_pca.mean())/df_pca.std()\n",
    "pca = PCA(n_components=df_pca.shape[1])\n",
    "pca.fit(df_normalized)\n",
    "output_pca=pd.DataFrame(pca.transform(df_normalized),columns=['PC1', 'PC2', 'PC3', 'PC4', 'PC5', 'PC6', 'PC7', 'PC8', 'PC9', 'PC10', 'PC11', 'PC12', 'PC13'])\n",
    "#screeplot\n",
    "plt.plot(pca.explained_variance_ratio_)\n",
    "plt.xlabel('number of components')\n",
    "plt.ylabel('explained variance')\n",
    "plt.show()\n"
   ]
  },
  {
   "cell_type": "code",
   "execution_count": 106,
   "id": "953dbcc1-64a7-4cfc-8bf7-d1341f41af30",
   "metadata": {},
   "outputs": [
    {
     "data": {
      "text/html": [
       "<div>\n",
       "<style scoped>\n",
       "    .dataframe tbody tr th:only-of-type {\n",
       "        vertical-align: middle;\n",
       "    }\n",
       "\n",
       "    .dataframe tbody tr th {\n",
       "        vertical-align: top;\n",
       "    }\n",
       "\n",
       "    .dataframe thead th {\n",
       "        text-align: right;\n",
       "    }\n",
       "</style>\n",
       "<table border=\"1\" class=\"dataframe\">\n",
       "  <thead>\n",
       "    <tr style=\"text-align: right;\">\n",
       "      <th></th>\n",
       "      <th>PC1</th>\n",
       "      <th>PC2</th>\n",
       "      <th>PC3</th>\n",
       "      <th>PC4</th>\n",
       "      <th>PC5</th>\n",
       "      <th>PC6</th>\n",
       "      <th>PC7</th>\n",
       "      <th>PC8</th>\n",
       "      <th>PC9</th>\n",
       "      <th>PC10</th>\n",
       "      <th>PC11</th>\n",
       "      <th>PC12</th>\n",
       "      <th>PC13</th>\n",
       "    </tr>\n",
       "  </thead>\n",
       "  <tbody>\n",
       "    <tr>\n",
       "      <th>Lat</th>\n",
       "      <td>-0.023421</td>\n",
       "      <td>-0.008522</td>\n",
       "      <td>-0.715205</td>\n",
       "      <td>0.127201</td>\n",
       "      <td>-0.050439</td>\n",
       "      <td>-0.015836</td>\n",
       "      <td>-0.047055</td>\n",
       "      <td>0.050754</td>\n",
       "      <td>0.016144</td>\n",
       "      <td>-0.054841</td>\n",
       "      <td>0.678680</td>\n",
       "      <td>-0.014851</td>\n",
       "      <td>0.000032</td>\n",
       "    </tr>\n",
       "    <tr>\n",
       "      <th>Lng</th>\n",
       "      <td>-0.006528</td>\n",
       "      <td>0.018714</td>\n",
       "      <td>0.271514</td>\n",
       "      <td>-0.607254</td>\n",
       "      <td>-0.509109</td>\n",
       "      <td>-0.056214</td>\n",
       "      <td>0.298856</td>\n",
       "      <td>0.165324</td>\n",
       "      <td>-0.042379</td>\n",
       "      <td>0.169615</td>\n",
       "      <td>0.384051</td>\n",
       "      <td>0.008163</td>\n",
       "      <td>0.002107</td>\n",
       "    </tr>\n",
       "    <tr>\n",
       "      <th>Population</th>\n",
       "      <td>0.029256</td>\n",
       "      <td>-0.025514</td>\n",
       "      <td>0.630842</td>\n",
       "      <td>0.287223</td>\n",
       "      <td>0.295469</td>\n",
       "      <td>0.039597</td>\n",
       "      <td>-0.190992</td>\n",
       "      <td>-0.042483</td>\n",
       "      <td>0.070729</td>\n",
       "      <td>-0.076578</td>\n",
       "      <td>0.616255</td>\n",
       "      <td>-0.015587</td>\n",
       "      <td>-0.001470</td>\n",
       "    </tr>\n",
       "    <tr>\n",
       "      <th>Children</th>\n",
       "      <td>0.003016</td>\n",
       "      <td>0.010993</td>\n",
       "      <td>0.007206</td>\n",
       "      <td>0.271665</td>\n",
       "      <td>0.269214</td>\n",
       "      <td>-0.180949</td>\n",
       "      <td>0.781223</td>\n",
       "      <td>0.392495</td>\n",
       "      <td>0.236142</td>\n",
       "      <td>0.023036</td>\n",
       "      <td>-0.006422</td>\n",
       "      <td>-0.008473</td>\n",
       "      <td>-0.005369</td>\n",
       "    </tr>\n",
       "    <tr>\n",
       "      <th>Age</th>\n",
       "      <td>0.082527</td>\n",
       "      <td>0.700963</td>\n",
       "      <td>0.006858</td>\n",
       "      <td>0.013960</td>\n",
       "      <td>-0.014541</td>\n",
       "      <td>-0.026052</td>\n",
       "      <td>-0.016691</td>\n",
       "      <td>-0.000913</td>\n",
       "      <td>-0.020491</td>\n",
       "      <td>-0.020822</td>\n",
       "      <td>-0.003170</td>\n",
       "      <td>-0.706478</td>\n",
       "      <td>-0.021298</td>\n",
       "    </tr>\n",
       "    <tr>\n",
       "      <th>Income</th>\n",
       "      <td>-0.005567</td>\n",
       "      <td>-0.007173</td>\n",
       "      <td>0.023734</td>\n",
       "      <td>0.195512</td>\n",
       "      <td>-0.111814</td>\n",
       "      <td>0.565693</td>\n",
       "      <td>0.453090</td>\n",
       "      <td>-0.393175</td>\n",
       "      <td>-0.494670</td>\n",
       "      <td>-0.144838</td>\n",
       "      <td>0.053548</td>\n",
       "      <td>-0.014036</td>\n",
       "      <td>-0.000562</td>\n",
       "    </tr>\n",
       "    <tr>\n",
       "      <th>VitD_levels</th>\n",
       "      <td>0.486579</td>\n",
       "      <td>-0.041742</td>\n",
       "      <td>-0.056570</td>\n",
       "      <td>-0.297710</td>\n",
       "      <td>0.146981</td>\n",
       "      <td>0.347434</td>\n",
       "      <td>0.044781</td>\n",
       "      <td>-0.050354</td>\n",
       "      <td>0.416553</td>\n",
       "      <td>-0.329168</td>\n",
       "      <td>0.001274</td>\n",
       "      <td>-0.025003</td>\n",
       "      <td>0.490221</td>\n",
       "    </tr>\n",
       "    <tr>\n",
       "      <th>Doc_visits</th>\n",
       "      <td>-0.006078</td>\n",
       "      <td>0.012811</td>\n",
       "      <td>0.012515</td>\n",
       "      <td>0.150557</td>\n",
       "      <td>-0.101609</td>\n",
       "      <td>0.603049</td>\n",
       "      <td>-0.220308</td>\n",
       "      <td>0.704004</td>\n",
       "      <td>-0.061391</td>\n",
       "      <td>0.227609</td>\n",
       "      <td>-0.056748</td>\n",
       "      <td>-0.005437</td>\n",
       "      <td>0.000373</td>\n",
       "    </tr>\n",
       "    <tr>\n",
       "      <th>Full_meals_eaten</th>\n",
       "      <td>-0.013250</td>\n",
       "      <td>0.037567</td>\n",
       "      <td>-0.104503</td>\n",
       "      <td>-0.315614</td>\n",
       "      <td>0.558044</td>\n",
       "      <td>0.174872</td>\n",
       "      <td>0.054461</td>\n",
       "      <td>-0.208301</td>\n",
       "      <td>-0.038400</td>\n",
       "      <td>0.702036</td>\n",
       "      <td>0.071365</td>\n",
       "      <td>-0.010324</td>\n",
       "      <td>-0.001691</td>\n",
       "    </tr>\n",
       "    <tr>\n",
       "      <th>VitD_supp</th>\n",
       "      <td>0.036209</td>\n",
       "      <td>0.009515</td>\n",
       "      <td>0.028556</td>\n",
       "      <td>0.374503</td>\n",
       "      <td>-0.453366</td>\n",
       "      <td>0.131907</td>\n",
       "      <td>0.038205</td>\n",
       "      <td>-0.337548</td>\n",
       "      <td>0.577217</td>\n",
       "      <td>0.430785</td>\n",
       "      <td>-0.020460</td>\n",
       "      <td>-0.003953</td>\n",
       "      <td>-0.001482</td>\n",
       "    </tr>\n",
       "    <tr>\n",
       "      <th>Initial_days</th>\n",
       "      <td>0.503870</td>\n",
       "      <td>-0.081298</td>\n",
       "      <td>0.018957</td>\n",
       "      <td>0.260198</td>\n",
       "      <td>-0.129776</td>\n",
       "      <td>-0.330474</td>\n",
       "      <td>-0.033129</td>\n",
       "      <td>0.063429</td>\n",
       "      <td>-0.423692</td>\n",
       "      <td>0.318514</td>\n",
       "      <td>-0.001319</td>\n",
       "      <td>-0.013358</td>\n",
       "      <td>0.509040</td>\n",
       "    </tr>\n",
       "    <tr>\n",
       "      <th>TotalCharge</th>\n",
       "      <td>0.701797</td>\n",
       "      <td>-0.077601</td>\n",
       "      <td>-0.026161</td>\n",
       "      <td>-0.022715</td>\n",
       "      <td>0.004622</td>\n",
       "      <td>0.003962</td>\n",
       "      <td>0.002067</td>\n",
       "      <td>0.010004</td>\n",
       "      <td>-0.019135</td>\n",
       "      <td>-0.001005</td>\n",
       "      <td>0.000737</td>\n",
       "      <td>0.025858</td>\n",
       "      <td>-0.706457</td>\n",
       "    </tr>\n",
       "    <tr>\n",
       "      <th>Additional_charges</th>\n",
       "      <td>0.083759</td>\n",
       "      <td>0.700974</td>\n",
       "      <td>0.001207</td>\n",
       "      <td>0.031007</td>\n",
       "      <td>0.005225</td>\n",
       "      <td>-0.001957</td>\n",
       "      <td>-0.006784</td>\n",
       "      <td>-0.006265</td>\n",
       "      <td>-0.015480</td>\n",
       "      <td>-0.019407</td>\n",
       "      <td>0.021742</td>\n",
       "      <td>0.706021</td>\n",
       "      <td>0.031392</td>\n",
       "    </tr>\n",
       "  </tbody>\n",
       "</table>\n",
       "</div>"
      ],
      "text/plain": [
       "                         PC1       PC2       PC3       PC4       PC5  \\\n",
       "Lat                -0.023421 -0.008522 -0.715205  0.127201 -0.050439   \n",
       "Lng                -0.006528  0.018714  0.271514 -0.607254 -0.509109   \n",
       "Population          0.029256 -0.025514  0.630842  0.287223  0.295469   \n",
       "Children            0.003016  0.010993  0.007206  0.271665  0.269214   \n",
       "Age                 0.082527  0.700963  0.006858  0.013960 -0.014541   \n",
       "Income             -0.005567 -0.007173  0.023734  0.195512 -0.111814   \n",
       "VitD_levels         0.486579 -0.041742 -0.056570 -0.297710  0.146981   \n",
       "Doc_visits         -0.006078  0.012811  0.012515  0.150557 -0.101609   \n",
       "Full_meals_eaten   -0.013250  0.037567 -0.104503 -0.315614  0.558044   \n",
       "VitD_supp           0.036209  0.009515  0.028556  0.374503 -0.453366   \n",
       "Initial_days        0.503870 -0.081298  0.018957  0.260198 -0.129776   \n",
       "TotalCharge         0.701797 -0.077601 -0.026161 -0.022715  0.004622   \n",
       "Additional_charges  0.083759  0.700974  0.001207  0.031007  0.005225   \n",
       "\n",
       "                         PC6       PC7       PC8       PC9      PC10  \\\n",
       "Lat                -0.015836 -0.047055  0.050754  0.016144 -0.054841   \n",
       "Lng                -0.056214  0.298856  0.165324 -0.042379  0.169615   \n",
       "Population          0.039597 -0.190992 -0.042483  0.070729 -0.076578   \n",
       "Children           -0.180949  0.781223  0.392495  0.236142  0.023036   \n",
       "Age                -0.026052 -0.016691 -0.000913 -0.020491 -0.020822   \n",
       "Income              0.565693  0.453090 -0.393175 -0.494670 -0.144838   \n",
       "VitD_levels         0.347434  0.044781 -0.050354  0.416553 -0.329168   \n",
       "Doc_visits          0.603049 -0.220308  0.704004 -0.061391  0.227609   \n",
       "Full_meals_eaten    0.174872  0.054461 -0.208301 -0.038400  0.702036   \n",
       "VitD_supp           0.131907  0.038205 -0.337548  0.577217  0.430785   \n",
       "Initial_days       -0.330474 -0.033129  0.063429 -0.423692  0.318514   \n",
       "TotalCharge         0.003962  0.002067  0.010004 -0.019135 -0.001005   \n",
       "Additional_charges -0.001957 -0.006784 -0.006265 -0.015480 -0.019407   \n",
       "\n",
       "                        PC11      PC12      PC13  \n",
       "Lat                 0.678680 -0.014851  0.000032  \n",
       "Lng                 0.384051  0.008163  0.002107  \n",
       "Population          0.616255 -0.015587 -0.001470  \n",
       "Children           -0.006422 -0.008473 -0.005369  \n",
       "Age                -0.003170 -0.706478 -0.021298  \n",
       "Income              0.053548 -0.014036 -0.000562  \n",
       "VitD_levels         0.001274 -0.025003  0.490221  \n",
       "Doc_visits         -0.056748 -0.005437  0.000373  \n",
       "Full_meals_eaten    0.071365 -0.010324 -0.001691  \n",
       "VitD_supp          -0.020460 -0.003953 -0.001482  \n",
       "Initial_days       -0.001319 -0.013358  0.509040  \n",
       "TotalCharge         0.000737  0.025858 -0.706457  \n",
       "Additional_charges  0.021742  0.706021  0.031392  "
      ]
     },
     "execution_count": 106,
     "metadata": {},
     "output_type": "execute_result"
    }
   ],
   "source": [
    "#Generate dateframe of each component of the PCA and its loading\n",
    "loadings = pd.DataFrame(pca.components_.T,\n",
    "     columns=['PC1', 'PC2', 'PC3', 'PC4', 'PC5', 'PC6', 'PC7', 'PC8', 'PC9', 'PC10', 'PC11', 'PC12', 'PC13'],\n",
    "     index=df_pca.columns)\n",
    "loadings"
   ]
  },
  {
   "cell_type": "code",
   "execution_count": 107,
   "id": "b0cf9387-1f75-410a-b0e8-4c37716f0e02",
   "metadata": {},
   "outputs": [
    {
     "data": {
      "image/png": "[encoded data removed]",
      "text/plain": [
       "<Figure size 2000x1000 with 1 Axes>"
      ]
     },
     "metadata": {},
     "output_type": "display_data"
    }
   ],
   "source": [
    "#Eigen values\n",
    "cov_matrix=np.dot(df_normalized.T, df_normalized)/df_pca.shape[0]\n",
    "eigenvalues=[np.dot(eigenvector.T, np.dot(cov_matrix, eigenvector)) for eigenvector in pca.components_]\n",
    "plt.figure(figsize = [20,10])\n",
    "plt.plot(eigenvalues)\n",
    "plt.xlabel('# of Components')\n",
    "plt.ylabel('Eigenvalues')\n",
    "plt.axhline(y=1, color='red')\n",
    "plt.show()"
   ]
  },
  {
   "cell_type": "code",
   "execution_count": 108,
   "id": "c520ad9e-9047-47e0-a861-7626efc252d7",
   "metadata": {},
   "outputs": [
    {
     "data": {
      "text/plain": [
       "[1.9362684591047992,\n",
       " 1.6197129547423872,\n",
       " 1.2259891373858702,\n",
       " 1.043259113118788,\n",
       " 1.0230374527265635,\n",
       " 1.020145496898612,\n",
       " 0.9956160002216436,\n",
       " 0.9873796313220091,\n",
       " 0.9820584805144412,\n",
       " 0.9720823729012029,\n",
       " 0.7465263198014946,\n",
       " 0.37776491655603966,\n",
       " 0.06885966470608908]"
      ]
     },
     "execution_count": 108,
     "metadata": {},
     "output_type": "execute_result"
    }
   ],
   "source": [
    "eigenvalues\n"
   ]
  }
 ],
 "metadata": {
  "kernelspec": {
   "display_name": "Python 3 (ipykernel)",
   "language": "python",
   "name": "python3"
  },
  "language_info": {
   "codemirror_mode": {
    "name": "ipython",
    "version": 3
   },
   "file_extension": ".py",
   "mimetype": "text/x-python",
   "name": "python",
   "nbconvert_exporter": "python",
   "pygments_lexer": "ipython3",
   "version": "3.12.4"
  }
 },
 "nbformat": 4,
 "nbformat_minor": 5
}
