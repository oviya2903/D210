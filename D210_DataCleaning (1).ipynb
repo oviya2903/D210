{
 "cells": [
  {
   "cell_type": "code",
   "execution_count": 1,
   "id": "2b576d83-94ee-46cc-b906-96142307d108",
   "metadata": {},
   "outputs": [
    {
     "name": "stdout",
     "output_type": "stream",
     "text": [
      "Requirement already satisfied: pandas in c:\\users\\oviya\\anaconda3\\lib\\site-packages (2.2.2)\n",
      "Requirement already satisfied: numpy>=1.26.0 in c:\\users\\oviya\\anaconda3\\lib\\site-packages (from pandas) (1.26.4)\n",
      "Requirement already satisfied: python-dateutil>=2.8.2 in c:\\users\\oviya\\anaconda3\\lib\\site-packages (from pandas) (2.9.0.post0)\n",
      "Requirement already satisfied: pytz>=2020.1 in c:\\users\\oviya\\anaconda3\\lib\\site-packages (from pandas) (2024.1)\n",
      "Requirement already satisfied: tzdata>=2022.7 in c:\\users\\oviya\\anaconda3\\lib\\site-packages (from pandas) (2023.3)\n",
      "Requirement already satisfied: six>=1.5 in c:\\users\\oviya\\anaconda3\\lib\\site-packages (from python-dateutil>=2.8.2->pandas) (1.16.0)\n",
      "Requirement already satisfied: numpy in c:\\users\\oviya\\anaconda3\\lib\\site-packages (1.26.4)\n",
      "Requirement already satisfied: scipy in c:\\users\\oviya\\anaconda3\\lib\\site-packages (1.13.1)\n",
      "Requirement already satisfied: numpy<2.3,>=1.22.4 in c:\\users\\oviya\\anaconda3\\lib\\site-packages (from scipy) (1.26.4)\n",
      "Requirement already satisfied: matplotlib in c:\\users\\oviya\\anaconda3\\lib\\site-packages (3.8.4)\n",
      "Requirement already satisfied: contourpy>=1.0.1 in c:\\users\\oviya\\anaconda3\\lib\\site-packages (from matplotlib) (1.2.0)\n",
      "Requirement already satisfied: cycler>=0.10 in c:\\users\\oviya\\anaconda3\\lib\\site-packages (from matplotlib) (0.11.0)\n",
      "Requirement already satisfied: fonttools>=4.22.0 in c:\\users\\oviya\\anaconda3\\lib\\site-packages (from matplotlib) (4.51.0)\n",
      "Requirement already satisfied: kiwisolver>=1.3.1 in c:\\users\\oviya\\anaconda3\\lib\\site-packages (from matplotlib) (1.4.4)\n",
      "Requirement already satisfied: numpy>=1.21 in c:\\users\\oviya\\anaconda3\\lib\\site-packages (from matplotlib) (1.26.4)\n",
      "Requirement already satisfied: packaging>=20.0 in c:\\users\\oviya\\anaconda3\\lib\\site-packages (from matplotlib) (23.2)\n",
      "Requirement already satisfied: pillow>=8 in c:\\users\\oviya\\anaconda3\\lib\\site-packages (from matplotlib) (10.3.0)\n",
      "Requirement already satisfied: pyparsing>=2.3.1 in c:\\users\\oviya\\anaconda3\\lib\\site-packages (from matplotlib) (3.0.9)\n",
      "Requirement already satisfied: python-dateutil>=2.7 in c:\\users\\oviya\\anaconda3\\lib\\site-packages (from matplotlib) (2.9.0.post0)\n",
      "Requirement already satisfied: six>=1.5 in c:\\users\\oviya\\anaconda3\\lib\\site-packages (from python-dateutil>=2.7->matplotlib) (1.16.0)\n"
     ]
    }
   ],
   "source": [
    "!pip install pandas\n",
    "!pip install numpy\n",
    "!pip install scipy\n",
    "!pip install matplotlib\n"
   ]
  },
  {
   "cell_type": "code",
   "execution_count": 2,
   "id": "d0bca76f-8b25-4054-af83-a1bce1127f8b",
   "metadata": {},
   "outputs": [],
   "source": [
    "import pandas as pd\n",
    "import numpy as np"
   ]
  },
  {
   "cell_type": "code",
   "execution_count": 3,
   "id": "407bc911-4e5e-4e76-8d84-d38e40d8fb5b",
   "metadata": {},
   "outputs": [],
   "source": [
    "#load the churn data into pandas dataframe\n",
    "churn_df = pd.read_csv('churn_clean.csv')\n",
    "df_original=churn_df.copy\n"
   ]
  },
  {
   "cell_type": "code",
   "execution_count": 4,
   "id": "54d682e6-0a86-4c1f-b1ab-8e9a035880ac",
   "metadata": {},
   "outputs": [
    {
     "name": "stdout",
     "output_type": "stream",
     "text": [
      "<class 'pandas.core.frame.DataFrame'>\n",
      "RangeIndex: 10000 entries, 0 to 9999\n",
      "Data columns (total 50 columns):\n",
      " #   Column                Non-Null Count  Dtype  \n",
      "---  ------                --------------  -----  \n",
      " 0   CaseOrder             10000 non-null  int64  \n",
      " 1   Customer_id           10000 non-null  object \n",
      " 2   Interaction           10000 non-null  object \n",
      " 3   UID                   10000 non-null  object \n",
      " 4   City                  10000 non-null  object \n",
      " 5   State                 10000 non-null  object \n",
      " 6   County                10000 non-null  object \n",
      " 7   Zip                   10000 non-null  int64  \n",
      " 8   Lat                   10000 non-null  float64\n",
      " 9   Lng                   10000 non-null  float64\n",
      " 10  Population            10000 non-null  int64  \n",
      " 11  Area                  10000 non-null  object \n",
      " 12  TimeZone              10000 non-null  object \n",
      " 13  Job                   10000 non-null  object \n",
      " 14  Children              10000 non-null  int64  \n",
      " 15  Age                   10000 non-null  int64  \n",
      " 16  Income                10000 non-null  float64\n",
      " 17  Marital               10000 non-null  object \n",
      " 18  Gender                10000 non-null  object \n",
      " 19  Churn                 10000 non-null  object \n",
      " 20  Outage_sec_perweek    10000 non-null  float64\n",
      " 21  Email                 10000 non-null  int64  \n",
      " 22  Contacts              10000 non-null  int64  \n",
      " 23  Yearly_equip_failure  10000 non-null  int64  \n",
      " 24  Techie                10000 non-null  object \n",
      " 25  Contract              10000 non-null  object \n",
      " 26  Port_modem            10000 non-null  object \n",
      " 27  Tablet                10000 non-null  object \n",
      " 28  InternetService       7871 non-null   object \n",
      " 29  Phone                 10000 non-null  object \n",
      " 30  Multiple              10000 non-null  object \n",
      " 31  OnlineSecurity        10000 non-null  object \n",
      " 32  OnlineBackup          10000 non-null  object \n",
      " 33  DeviceProtection      10000 non-null  object \n",
      " 34  TechSupport           10000 non-null  object \n",
      " 35  StreamingTV           10000 non-null  object \n",
      " 36  StreamingMovies       10000 non-null  object \n",
      " 37  PaperlessBilling      10000 non-null  object \n",
      " 38  PaymentMethod         10000 non-null  object \n",
      " 39  Tenure                10000 non-null  float64\n",
      " 40  MonthlyCharge         10000 non-null  float64\n",
      " 41  Bandwidth_GB_Year     10000 non-null  float64\n",
      " 42  Item1                 10000 non-null  int64  \n",
      " 43  Item2                 10000 non-null  int64  \n",
      " 44  Item3                 10000 non-null  int64  \n",
      " 45  Item4                 10000 non-null  int64  \n",
      " 46  Item5                 10000 non-null  int64  \n",
      " 47  Item6                 10000 non-null  int64  \n",
      " 48  Item7                 10000 non-null  int64  \n",
      " 49  Item8                 10000 non-null  int64  \n",
      "dtypes: float64(7), int64(16), object(27)\n",
      "memory usage: 3.8+ MB\n"
     ]
    }
   ],
   "source": [
    "churn_df.info()"
   ]
  },
  {
   "cell_type": "code",
   "execution_count": 5,
   "id": "c08be217-924f-42b8-94d3-c7d7b11014e6",
   "metadata": {},
   "outputs": [
    {
     "name": "stderr",
     "output_type": "stream",
     "text": [
      "C:\\Users\\oviya\\AppData\\Local\\Temp\\ipykernel_32320\\3008618565.py:2: FutureWarning: Downcasting behavior in `replace` is deprecated and will be removed in a future version. To retain the old behavior, explicitly call `result.infer_objects(copy=False)`. To opt-in to the future behavior, set `pd.set_option('future.no_silent_downcasting', True)`\n",
      "  churn_df.Churn = churn_df.Churn.replace({'Yes': True, 'No': False})\n"
     ]
    },
    {
     "data": {
      "text/plain": [
       "0    False\n",
       "1     True\n",
       "2    False\n",
       "3    False\n",
       "4     True\n",
       "Name: Churn, dtype: bool"
      ]
     },
     "execution_count": 5,
     "metadata": {},
     "output_type": "execute_result"
    }
   ],
   "source": [
    "#Convert the churn column to bool from string\n",
    "churn_df.Churn = churn_df.Churn.replace({'Yes': True, 'No': False})\n",
    "churn_df.Churn.head()"
   ]
  },
  {
   "cell_type": "code",
   "execution_count": 6,
   "id": "52e3c9ea-958e-46a8-933d-321085a73b85",
   "metadata": {},
   "outputs": [
    {
     "data": {
      "text/plain": [
       "count    10000.000000\n",
       "mean        34.526188\n",
       "std         26.443063\n",
       "min          1.000259\n",
       "25%          7.917694\n",
       "50%         35.430507\n",
       "75%         61.479795\n",
       "max         71.999280\n",
       "Name: Tenure, dtype: float64"
      ]
     },
     "execution_count": 6,
     "metadata": {},
     "output_type": "execute_result"
    }
   ],
   "source": [
    "#Observe the tenure column\n",
    "churn_df.Tenure.describe()"
   ]
  },
  {
   "cell_type": "code",
   "execution_count": 7,
   "id": "50f877c0-08b8-47b4-8ed7-c8e24dd25737",
   "metadata": {},
   "outputs": [
    {
     "data": {
      "text/plain": [
       "0     7.0\n",
       "1     1.0\n",
       "2    16.0\n",
       "3    17.0\n",
       "4     2.0\n",
       "Name: Tenure, dtype: float64"
      ]
     },
     "execution_count": 7,
     "metadata": {},
     "output_type": "execute_result"
    }
   ],
   "source": [
    "#Round up the Tensure value to whole number; they indicate the number of months the customer has stayed with the provider\n",
    "churn_df.Tenure=churn_df.Tenure.round()\n",
    "churn_df.Tenure.head()"
   ]
  },
  {
   "cell_type": "code",
   "execution_count": 8,
   "id": "07bcbdad-6ecf-4724-9717-4ad6029f6069",
   "metadata": {},
   "outputs": [],
   "source": [
    "#reduce to only the columns I need to visualization in tableau\n",
    "churn_df=churn_df[['Customer_id', 'State', 'Population', 'Age', 'Gender', 'Churn', 'Contract', 'InternetService', 'Tenure', 'PaymentMethod']]"
   ]
  },
  {
   "cell_type": "code",
   "execution_count": 9,
   "id": "5d1d8812-6c08-4687-9678-26f3c7e65bae",
   "metadata": {},
   "outputs": [
    {
     "data": {
      "text/plain": [
       "Customer_id           0\n",
       "State                 0\n",
       "Population            0\n",
       "Age                   0\n",
       "Gender                0\n",
       "Churn                 0\n",
       "Contract              0\n",
       "InternetService    2129\n",
       "Tenure                0\n",
       "PaymentMethod         0\n",
       "dtype: int64"
      ]
     },
     "execution_count": 9,
     "metadata": {},
     "output_type": "execute_result"
    }
   ],
   "source": [
    "churn_df.isnull().sum()"
   ]
  },
  {
   "cell_type": "code",
   "execution_count": 10,
   "id": "490d66bb-d92f-4d1a-b958-55f8305d220d",
   "metadata": {},
   "outputs": [
    {
     "data": {
      "text/plain": [
       "0    Fiber Optic\n",
       "Name: InternetService, dtype: object"
      ]
     },
     "execution_count": 10,
     "metadata": {},
     "output_type": "execute_result"
    }
   ],
   "source": [
    "churn_df.InternetService.mode()"
   ]
  },
  {
   "cell_type": "code",
   "execution_count": 11,
   "id": "59a47e46-e6cf-4015-acb1-a16c5e2cf577",
   "metadata": {},
   "outputs": [
    {
     "name": "stderr",
     "output_type": "stream",
     "text": [
      "C:\\Users\\oviya\\AppData\\Local\\Temp\\ipykernel_32320\\2352415907.py:2: SettingWithCopyWarning: \n",
      "A value is trying to be set on a copy of a slice from a DataFrame.\n",
      "Try using .loc[row_indexer,col_indexer] = value instead\n",
      "\n",
      "See the caveats in the documentation: https://pandas.pydata.org/pandas-docs/stable/user_guide/indexing.html#returning-a-view-versus-a-copy\n",
      "  churn_df.InternetService = churn_df.InternetService.fillna('Fiber Optic')\n"
     ]
    }
   ],
   "source": [
    "#Impute the Internet Service column with mode values\n",
    "churn_df.InternetService = churn_df.InternetService.fillna('Fiber Optic')"
   ]
  },
  {
   "cell_type": "code",
   "execution_count": 12,
   "id": "26b474c8-2501-4abc-9976-431f9bbd3bd2",
   "metadata": {},
   "outputs": [
    {
     "data": {
      "text/plain": [
       "Customer_id        0\n",
       "State              0\n",
       "Population         0\n",
       "Age                0\n",
       "Gender             0\n",
       "Churn              0\n",
       "Contract           0\n",
       "InternetService    0\n",
       "Tenure             0\n",
       "PaymentMethod      0\n",
       "dtype: int64"
      ]
     },
     "execution_count": 12,
     "metadata": {},
     "output_type": "execute_result"
    }
   ],
   "source": [
    "churn_df.isnull().sum()"
   ]
  },
  {
   "cell_type": "code",
   "execution_count": 13,
   "id": "e95ada0e-b932-4fa9-9d7e-4e934152bec3",
   "metadata": {},
   "outputs": [],
   "source": [
    "# Save dataframe to CSV\n",
    "churn_df.to_csv('final_churn_clean.csv', index=False)"
   ]
  },
  {
   "cell_type": "code",
   "execution_count": 14,
   "id": "0dab73e8-b1cd-4723-925e-9e5b18569d7b",
   "metadata": {},
   "outputs": [],
   "source": [
    "#Handle external data file\n",
    "#Read the external data file into the dataframe\n",
    "ext_df = pd.read_csv('Average Income and Rent in United States.csv')\n",
    "df_original=ext_df.copy"
   ]
  },
  {
   "cell_type": "code",
   "execution_count": 15,
   "id": "b19c239e-afe0-45d9-91fa-93e2bc7e3efd",
   "metadata": {},
   "outputs": [
    {
     "name": "stdout",
     "output_type": "stream",
     "text": [
      "<class 'pandas.core.frame.DataFrame'>\n",
      "RangeIndex: 50 entries, 0 to 49\n",
      "Data columns (total 3 columns):\n",
      " #   Column          Non-Null Count  Dtype \n",
      "---  ------          --------------  ----- \n",
      " 0   Region          50 non-null     object\n",
      " 1   Average_Rent    50 non-null     object\n",
      " 2   Average_Income  50 non-null     object\n",
      "dtypes: object(3)\n",
      "memory usage: 1.3+ KB\n"
     ]
    }
   ],
   "source": [
    "ext_df.info()"
   ]
  },
  {
   "cell_type": "code",
   "execution_count": 16,
   "id": "e41c1f2a-f57c-40e9-ae01-b451188c8bc6",
   "metadata": {},
   "outputs": [
    {
     "data": {
      "text/plain": [
       "0       Alabama\n",
       "1        Alaska\n",
       "2       Arizona\n",
       "3      Arkansas\n",
       "4    California\n",
       "Name: Region, dtype: object"
      ]
     },
     "execution_count": 16,
     "metadata": {},
     "output_type": "execute_result"
    }
   ],
   "source": [
    "#Name of the state within the United States\n",
    "ext_df.Region.head()"
   ]
  },
  {
   "cell_type": "code",
   "execution_count": 17,
   "id": "0748a3c5-59c4-4c24-a0d5-a5b5824aea58",
   "metadata": {},
   "outputs": [],
   "source": [
    "#We need to map the Region values to Two-Letter State Abbreviations\n",
    "state_abbreviations={\n",
    "    'Alabama': 'AL',\n",
    "    'Alaska': 'AK',\n",
    "    'Arizona': 'AZ',\n",
    "    'Arkansas': 'AR',\n",
    "    'California': 'CA',\n",
    "    'Colorado': 'CO',\n",
    "    'Connecticut': 'CT',\n",
    "    'Delaware': 'DE',\n",
    "    'Florida': 'FL',\n",
    "    'Georgia': 'GA',\n",
    "    'Hawaii': 'HI',\n",
    "    'Idaho': 'ID',\n",
    "    'Illinois': 'IL',\n",
    "    'Indiana': 'IN',\n",
    "    'Iowa': 'IA',\n",
    "    'Kansas': 'KS',\n",
    "    'Kentucky': 'KY',\n",
    "    'Louisiana': 'LA',\n",
    "    'Maine': 'ME',\n",
    "    'Maryland': 'MD',\n",
    "    'Massachusetts': 'MA',\n",
    "    'Michigan': 'MI',\n",
    "    'Minnesota': 'MN',\n",
    "    'Mississippi': 'MS',\n",
    "    'Missouri': 'MO',\n",
    "    'Montana': 'MT',\n",
    "    'Nebraska': 'NE',\n",
    "    'Nevada': 'NV',\n",
    "    'New Hampshire': 'NH',\n",
    "    'New Jersey': 'NJ',\n",
    "    'New Mexico': 'NM',\n",
    "    'New York': 'NY',\n",
    "    'North Carolina': 'NC',\n",
    "    'North Dakota': 'ND',\n",
    "    'Ohio': 'OH',\n",
    "    'Oklahoma': 'OK',\n",
    "    'Oregon': 'OR',\n",
    "    'Pennsylvania': 'PA',\n",
    "    'Rhode Island': 'RI',\n",
    "    'South Carolina': 'SC',\n",
    "    'South Dakota': 'SD',\n",
    "    'Tennessee': 'TN',\n",
    "    'Texas': 'TX',\n",
    "    'Utah': 'UT',\n",
    "    'Vermont': 'VT',\n",
    "    'Virginia': 'VA',\n",
    "    'Washington': 'WA',\n",
    "    'West Virginia': 'WV',\n",
    "    'Wisconsin': 'WI',\n",
    "    'Wyoming': 'WY'\n",
    "    \n",
    "}"
   ]
  },
  {
   "cell_type": "code",
   "execution_count": 18,
   "id": "b8dd0aa3-e2e4-406e-8724-50326c533aaa",
   "metadata": {},
   "outputs": [
    {
     "data": {
      "text/plain": [
       "0    AL\n",
       "1    AK\n",
       "2    AZ\n",
       "3    AR\n",
       "4    CA\n",
       "Name: Region, dtype: object"
      ]
     },
     "execution_count": 18,
     "metadata": {},
     "output_type": "execute_result"
    }
   ],
   "source": [
    "# Replace state names with abbreviations\n",
    "ext_df.Region=ext_df.Region.map(state_abbreviations)\n",
    "ext_df.Region.head()"
   ]
  },
  {
   "cell_type": "code",
   "execution_count": 19,
   "id": "b69d4291-ea53-452b-968c-4ff5b95efa6d",
   "metadata": {},
   "outputs": [],
   "source": [
    "ext_df=ext_df[['Region', 'Average_Income']]"
   ]
  },
  {
   "cell_type": "code",
   "execution_count": 20,
   "id": "0336e98d-832d-4fe5-ae86-4c9ed8dc5684",
   "metadata": {},
   "outputs": [],
   "source": [
    "# Save dataframe to CSV\n",
    "ext_df.to_csv('final_external_clean.csv', index=False)"
   ]
  },
  {
   "cell_type": "code",
   "execution_count": 21,
   "id": "847f2d69-a357-424a-b5bc-8f04f9e030c3",
   "metadata": {},
   "outputs": [
    {
     "name": "stdout",
     "output_type": "stream",
     "text": [
      "     Customer_id State  Population  Age  Gender  Churn        Contract  \\\n",
      "0        K409198    AK          38   68    Male  False        One year   \n",
      "1        S120509    MI       10446   27  Female   True  Month-to-month   \n",
      "2        K191035    OR        3735   50  Female  False        Two Year   \n",
      "3         D90850    CA       13863   48    Male  False        Two Year   \n",
      "4        K662701    TX       11352   83    Male   True  Month-to-month   \n",
      "...          ...   ...         ...  ...     ...    ...             ...   \n",
      "9941     M324793    VT         640   23    Male  False  Month-to-month   \n",
      "9942     D861732    TN       77168   48    Male  False        Two Year   \n",
      "9943     I243405    TX         406   48  Female  False  Month-to-month   \n",
      "9944     I641617    GA       35575   39    Male  False        Two Year   \n",
      "9945      T38070    GA       12230   28    Male  False  Month-to-month   \n",
      "\n",
      "     InternetService  Tenure             PaymentMethod Region Average_Income  \n",
      "0        Fiber Optic     7.0   Credit Card (automatic)     AK        $68,919  \n",
      "1        Fiber Optic     1.0  Bank Transfer(automatic)     MI        $56,813  \n",
      "2                DSL    16.0   Credit Card (automatic)     OR        $62,767  \n",
      "3                DSL    17.0              Mailed Check     CA        $77,339  \n",
      "4        Fiber Optic     2.0              Mailed Check     TX        $61,985  \n",
      "...              ...     ...                       ...    ...            ...  \n",
      "9941             DSL    68.0          Electronic Check     VT        $63,206  \n",
      "9942     Fiber Optic    61.0          Electronic Check     TN        $58,279  \n",
      "9943     Fiber Optic    47.0  Bank Transfer(automatic)     TX        $61,985  \n",
      "9944     Fiber Optic    71.0   Credit Card (automatic)     GA        $57,129  \n",
      "9945     Fiber Optic    63.0          Electronic Check     GA        $57,129  \n",
      "\n",
      "[9946 rows x 12 columns]\n"
     ]
    }
   ],
   "source": [
    "#Join both datasets so it can be easily interpreted by Tableau\n",
    "merge_df=churn_df.merge(ext_df, left_on='State', right_on='Region', how='inner' )\n",
    "print(merge_df)"
   ]
  },
  {
   "cell_type": "code",
   "execution_count": 22,
   "id": "3f354d7b-081d-4093-b7cd-6419507960c0",
   "metadata": {},
   "outputs": [],
   "source": [
    "# Save dataframe to CSV\n",
    "merge_df.to_csv('final_dataset.csv', index=False)"
   ]
  },
  {
   "cell_type": "code",
   "execution_count": null,
   "id": "fc9f3a6a-6be2-4abe-838e-d6438bcc4d7b",
   "metadata": {},
   "outputs": [],
   "source": []
  }
 ],
 "metadata": {
  "kernelspec": {
   "display_name": "Python 3 (ipykernel)",
   "language": "python",
   "name": "python3"
  },
  "language_info": {
   "codemirror_mode": {
    "name": "ipython",
    "version": 3
   },
   "file_extension": ".py",
   "mimetype": "text/x-python",
   "name": "python",
   "nbconvert_exporter": "python",
   "pygments_lexer": "ipython3",
   "version": "3.12.4"
  }
 },
 "nbformat": 4,
 "nbformat_minor": 5
}
